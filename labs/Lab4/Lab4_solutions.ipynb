{
  "nbformat": 4,
  "nbformat_minor": 0,
  "metadata": {
    "colab": {
      "name": "Lab4_solutions",
      "provenance": []
    },
    "kernelspec": {
      "name": "python3",
      "display_name": "Python 3"
    },
    "language_info": {
      "name": "python"
    }
  },
  "cells": [
    {
      "cell_type": "markdown",
      "source": [
        "**Last week, we learned how to fit a simple model to a single or multiple predictors to predict a given target variable. However, by fixing the number of predictors and by fixing the model's hyper-parameters beforehand, we restricted ourselves to a single model. By doing so, we omitted to explore a broader range of models, one of which might better explain to relationship between our input and target variables.**\n",
        "\n",
        "**In this lab, we'll experiment with the general methodology of model selection, meaning that we'll define a set of predifined models, and we'll retain the one that minimizes the out-of-sample error.**"
      ],
      "metadata": {
        "id": "H3g2zh1W2t_c"
      }
    },
    {
      "cell_type": "markdown",
      "source": [
        "**First, import the necessary libraries**"
      ],
      "metadata": {
        "id": "1U5VE1l3YtKA"
      }
    },
    {
      "cell_type": "code",
      "execution_count": null,
      "metadata": {
        "id": "zkt8eCSmYkbz"
      },
      "outputs": [],
      "source": [
        "import pandas as pd\n",
        "from sklearn.linear_model import LinearRegression\n",
        "from sklearn.impute import SimpleImputer\n",
        "from sklearn.model_selection import train_test_split, cross_validate, LeaveOneOut, GridSearchCV\n",
        "from sklearn.metrics import mean_squared_error, r2_score, make_scorer\n",
        "import numpy as np\n",
        "import matplotlib.pyplot as plt\n",
        "from sklearn.preprocessing import PolynomialFeatures\n",
        "from sklearn.pipeline import make_pipeline\n",
        "from sklearn.feature_selection import SequentialFeatureSelector"
      ]
    },
    {
      "cell_type": "markdown",
      "source": [
        "**1) In this lab, we will be working with the 'fish_lab.csv' dataset, which contains several characteristics about fish, such as their weights, lengths, and species, amongst others. Load the dataset as a pandas dataframe, inspect its properties and check for any missing values. Change the data type of 'Species' to 'category'.**"
      ],
      "metadata": {
        "id": "I_O6yz5QY8bH"
      }
    },
    {
      "cell_type": "code",
      "source": [
        "file = './fish_lab.csv'\n",
        "df = pd.read_csv(file, index_col=0)\n",
        "df = df.astype({'Species' : 'category'})\n",
        "print(df.info())\n",
        "print(df.head())\n",
        "print(df.isna().sum())"
      ],
      "metadata": {
        "colab": {
          "base_uri": "https://localhost:8080/"
        },
        "id": "TO0Fesd7Zp0C",
        "outputId": "c692d5ad-357d-4093-cce1-9fb8aa2b9b77"
      },
      "execution_count": null,
      "outputs": [
        {
          "output_type": "stream",
          "name": "stdout",
          "text": [
            "<class 'pandas.core.frame.DataFrame'>\n",
            "Int64Index: 159 entries, 0 to 158\n",
            "Data columns (total 7 columns):\n",
            " #   Column   Non-Null Count  Dtype   \n",
            "---  ------   --------------  -----   \n",
            " 0   Species  154 non-null    category\n",
            " 1   Weight   151 non-null    float64 \n",
            " 2   Length1  152 non-null    float64 \n",
            " 3   Length2  147 non-null    float64 \n",
            " 4   Length3  156 non-null    float64 \n",
            " 5   Height   159 non-null    float64 \n",
            " 6   Width    154 non-null    float64 \n",
            "dtypes: category(1), float64(6)\n",
            "memory usage: 9.2 KB\n",
            "None\n",
            "  Species  Weight  Length1  Length2  Length3   Height   Width\n",
            "0   Bream   242.0     23.2     25.4     30.0  11.5200  4.0200\n",
            "1   Bream   290.0     24.0     26.3     31.2  12.4800  4.3056\n",
            "2   Bream   340.0     23.9     26.5     31.1  12.3778  4.6961\n",
            "3   Bream   363.0     26.3     29.0     33.5  12.7300  4.4555\n",
            "4   Bream   430.0     26.5     29.0     34.0  12.4440  5.1340\n",
            "Species     5\n",
            "Weight      8\n",
            "Length1     7\n",
            "Length2    12\n",
            "Length3     3\n",
            "Height      0\n",
            "Width       5\n",
            "dtype: int64\n"
          ]
        }
      ]
    },
    {
      "cell_type": "markdown",
      "source": [
        "**2) Does the dataframe contain any missing values ? If yes, replace the missing values by the sample mean for continuous variables. For missing categorical variables, replace them by the most frequent occurence of the corresponding column. Check the 'SimpleImputer()' class of the scikit-learn library.**"
      ],
      "metadata": {
        "id": "ARI4jGJDZ24R"
      }
    },
    {
      "cell_type": "code",
      "source": [
        "imp_cont = SimpleImputer(missing_values=np.nan, strategy='mean')\n",
        "imp_cat = SimpleImputer(missing_values=np.nan, strategy='most_frequent')\n",
        "\n",
        "cat_columns = df.select_dtypes(include=['category']).columns\n",
        "cont_columns = df.select_dtypes(exclude=['category']).columns\n",
        "\n",
        "df[cat_columns] = imp_cat.fit_transform(df[cat_columns])\n",
        "df[cont_columns] = imp_cont.fit_transform(df[cont_columns])\n",
        "\n",
        "print(df.isna().sum())"
      ],
      "metadata": {
        "colab": {
          "base_uri": "https://localhost:8080/"
        },
        "id": "X6p-MsWdagTK",
        "outputId": "20859b09-9c11-4c52-8504-5a53cefb62cb"
      },
      "execution_count": null,
      "outputs": [
        {
          "output_type": "stream",
          "name": "stdout",
          "text": [
            "Species    0\n",
            "Weight     0\n",
            "Length1    0\n",
            "Length2    0\n",
            "Length3    0\n",
            "Height     0\n",
            "Width      0\n",
            "dtype: int64\n"
          ]
        }
      ]
    },
    {
      "cell_type": "markdown",
      "source": [
        "**3) Unfortunately, categorical variables cannot be fed directly to the model. One approach to deal with the problem is to create 'dummy variables' out of the categorical one, where each dummy variable takes the value '1' if the observation belongs to that class, and '0' otherwise. Check the method 'get_dummies' of the pandas library to generate such dummy variables.** "
      ],
      "metadata": {
        "id": "jmndzfo-anRy"
      }
    },
    {
      "cell_type": "code",
      "source": [
        "df_species = pd.get_dummies(df.iloc[:, 0])\n",
        "df.drop('Species', inplace=True, axis=1)\n",
        "df = pd.concat([df_species, df], axis=1)\n",
        "print(df.columns)"
      ],
      "metadata": {
        "colab": {
          "base_uri": "https://localhost:8080/"
        },
        "id": "da0wVt_ibvcW",
        "outputId": "860939cd-cc4a-4eb1-bd09-434d5a10f491"
      },
      "execution_count": null,
      "outputs": [
        {
          "output_type": "stream",
          "name": "stdout",
          "text": [
            "Index(['Bream', 'Parkki', 'Perch', 'Pike', 'Roach', 'Smelt', 'Whitefish',\n",
            "       'Weight', 'Length1', 'Length2', 'Length3', 'Height', 'Width'],\n",
            "      dtype='object')\n"
          ]
        }
      ]
    },
    {
      "cell_type": "markdown",
      "source": [
        "**4) Now let's make some predictions. Select the variable 'Weight' as predictor and 'Height' as the target variable. Generate a scatter plot of the two variables, and fit a simple linear regression model to the data. Split your datasets into a training and test set following a 60/40 partition. Evaluate the model on the Mean Squared Error and on the coefficent of determination. Report such metrics for both the training and test sets.**"
      ],
      "metadata": {
        "id": "SNR5NKrlbxbK"
      }
    },
    {
      "cell_type": "code",
      "source": [
        "X = df.Weight.values[:, np.newaxis]\n",
        "y = df.Height.values\n",
        "model = LinearRegression(fit_intercept=True)\n",
        "\n",
        "fig, ax = plt.subplots()\n",
        "ax.scatter(X.ravel(), y, color='blue')\n",
        "ax.set_xlabel('Weigth')\n",
        "ax.set_ylabel('Height')\n",
        "plt.show()\n",
        "\n",
        "X_train, X_test, y_train, y_test = train_test_split(X, y, train_size=0.6, test_size=0.4, shuffle=True)\n",
        "\n",
        "model.fit(X_train, y_train)\n",
        "y_pred_train = model.predict(X_train)\n",
        "y_pred_test = model.predict(X_test)\n",
        "\n",
        "mse_train = mean_squared_error(y_train, y_pred_train)\n",
        "mse_test = mean_squared_error(y_test, y_pred_test)\n",
        "r2_train = r2_score(y_train, y_pred_train)\n",
        "r2_test = r2_score(y_test, y_pred_test)\n",
        "\n",
        "print('Training MSE : {}'.format(mse_train))\n",
        "print('Test MSE : {}'.format(mse_test))\n",
        "print('Training R2 : {}'.format(r2_train))\n",
        "print('Test R2 : {}'.format(r2_test))"
      ],
      "metadata": {
        "colab": {
          "base_uri": "https://localhost:8080/",
          "height": 350
        },
        "id": "ZAQqipascyCd",
        "outputId": "7284f8c6-1830-4fc2-9dbb-958da9032730"
      },
      "execution_count": null,
      "outputs": [
        {
          "output_type": "display_data",
          "data": {
            "image/png": "[encoded data removed]",
            "text/plain": [
              "<Figure size 432x288 with 1 Axes>"
            ]
          },
          "metadata": {
            "needs_background": "light"
          }
        },
        {
          "output_type": "stream",
          "name": "stdout",
          "text": [
            "Training MSE : 9.155062192264335\n",
            "Test MSE : 10.202066214789005\n",
            "Training R2 : 0.4726690974697493\n",
            "Test R2 : 0.47852813750422196\n"
          ]
        }
      ]
    },
    {
      "cell_type": "markdown",
      "source": [
        "**5) By doing a 60/40 partition for our training and test sets, we are unfortunately neglecting a significant portion of data that could come in handy for training our model. This is where cross-validation becomes highly useful, as it allows us to train on a greater proportion of the total dataset.**\n",
        "\n",
        "**Use cross-validation to train the model. Check the performance of the model for both a 10 folds cross-validation, and a leave-one-out cross-validation. In both cases, evaluate the models on the MSE. Report the mean and the variance of the test MSE across each folds. What do you observe ? Check the classes 'cross_validate()' and 'LeaveOneOut() of the scikit-learn library.**"
      ],
      "metadata": {
        "id": "SQivk8PmdDND"
      }
    },
    {
      "cell_type": "code",
      "source": [
        "cv_results = cross_validate(model, X, y, cv=10, scoring=['neg_mean_squared_error'])\n",
        "\n",
        "test_mse = -cv_results['test_neg_mean_squared_error']\n",
        "\n",
        "mean_test_mse = test_mse.mean()\n",
        "var_test_mse = np.var(test_mse)\n",
        "\n",
        "print('10 folds CV mean test MSE : {}'.format(mean_test_mse))\n",
        "print('10 folds CV variance of test MSE : {}'.format(var_test_mse))"
      ],
      "metadata": {
        "colab": {
          "base_uri": "https://localhost:8080/"
        },
        "id": "mr3iWrn3eHfk",
        "outputId": "a2677bee-2e15-4403-b483-0e5173411ca1"
      },
      "execution_count": null,
      "outputs": [
        {
          "output_type": "stream",
          "name": "stdout",
          "text": [
            "10 folds CV mean test MSE : 13.161285086064387\n",
            "10 folds CV variance of test MSE : 156.40891319174224\n"
          ]
        }
      ]
    },
    {
      "cell_type": "code",
      "source": [
        "cv_results = cross_validate(model, X, y, cv=LeaveOneOut(), scoring=['neg_mean_squared_error'])\n",
        "\n",
        "test_mse = -cv_results['test_neg_mean_squared_error']\n",
        "\n",
        "mean_test_mse = test_mse.mean()\n",
        "var_test_mse = np.var(test_mse)\n",
        "\n",
        "print('LeaveOneOut CV mean test MSE : {}'.format(mean_test_mse))\n",
        "print('LeaveOneOut CV variance of test MSE : {}'.format(var_test_mse))"
      ],
      "metadata": {
        "colab": {
          "base_uri": "https://localhost:8080/"
        },
        "id": "SgYminmhfaGa",
        "outputId": "5c59a6ff-ab22-4366-de54-1d34f846d45e"
      },
      "execution_count": null,
      "outputs": [
        {
          "output_type": "stream",
          "name": "stdout",
          "text": [
            "LeaveOneOut CV mean test MSE : 10.417109910203429\n",
            "LeaveOneOut CV variance of test MSE : 353.2777934545741\n"
          ]
        }
      ]
    },
    {
      "cell_type": "markdown",
      "source": [
        "**6) Maybe a linear model is not the best option to model the relationship between the variables 'Weight' and 'Height'. Instead of fitting a linear model, let's fit a polynomial model of specified degree. First, transform the 'Weight' feature to quadratic, and fit a simple linear regression model to predict the variable 'Height' using a 10 folds cross-validation, and evaluate on the MSE. Report the mean test MSE across each folds. Check the method PolynomialFeatures() to transform the input variable.**\n"
      ],
      "metadata": {
        "id": "U_PEwHV0f14c"
      }
    },
    {
      "cell_type": "code",
      "source": [
        "transfo = PolynomialFeatures(degree=2)\n",
        "X2 = transfo.fit_transform(X)\n",
        "cv_results = cross_validate(model, X2, y, cv=10, scoring=['neg_mean_squared_error'])\n",
        "\n",
        "test_mse = -cv_results['test_neg_mean_squared_error'].mean()\n",
        "\n",
        "print('Test MSE for a polynomial model of degree 2 : {}'.format(test_mse))"
      ],
      "metadata": {
        "colab": {
          "base_uri": "https://localhost:8080/"
        },
        "id": "o1a-6zXngJgZ",
        "outputId": "a579031a-f440-4ba6-a168-ad3b6556623d"
      },
      "execution_count": null,
      "outputs": [
        {
          "output_type": "stream",
          "name": "stdout",
          "text": [
            "Test MSE for a polynomial model of degree 2 : 7.897678987867602\n"
          ]
        }
      ]
    },
    {
      "cell_type": "markdown",
      "source": [
        "**7) Let's now see how the MSE vary if we increase the model's complexity. For polynomial degrees between 1 and 20, repeatedly fit the model using a simple linear regression model and cross-validation, and plot the evolution of the mean train and test MSE in function of the polynomial degree. What do you observe ? Use the function 'PolynomialRegression' as the 'model' argument of the class 'cross_validate', and make sure to understand what the 'make_pipeline' method does.**\n",
        "\n",
        "**Moreover, can you identify which degree would be the best choice to model the relationship between the variables 'Weigth' and 'Height' ?**"
      ],
      "metadata": {
        "id": "aZm20YCJjb2j"
      }
    },
    {
      "cell_type": "code",
      "source": [
        "def PolynomialRegression(degree=2, **kwargs):\n",
        "    return make_pipeline(PolynomialFeatures(degree),\n",
        "                         LinearRegression(**kwargs))"
      ],
      "metadata": {
        "id": "QwZ91HOXjpEd"
      },
      "execution_count": null,
      "outputs": []
    },
    {
      "cell_type": "code",
      "source": [
        "mse_train_list, mse_test_list = [], []\n",
        "degrees = [i for i in range(1,10)]\n",
        "for degree in degrees:\n",
        "    model = PolynomialRegression(degree, fit_intercept=True)\n",
        "    cv_results = cross_validate(model, X, y, cv=10, scoring=['neg_mean_squared_error'], return_train_score=True)\n",
        "    train_mse = -cv_results['train_neg_mean_squared_error'].mean()\n",
        "    test_mse = -cv_results['test_neg_mean_squared_error'].mean()\n",
        "    mse_train_list.append(train_mse)\n",
        "    mse_test_list.append(test_mse)\n",
        "\n",
        "fig, ax = plt.subplots()\n",
        "ax.plot(degrees, mse_train_list, label='Train')\n",
        "ax.plot(degrees, mse_test_list, label='Test')\n",
        "ax.set_title('MSE evolution with model\\'s complexity')\n",
        "ax.legend()\n",
        "plt.show()"
      ],
      "metadata": {
        "colab": {
          "base_uri": "https://localhost:8080/",
          "height": 281
        },
        "id": "ZpaKtxAwk_Xf",
        "outputId": "63057ebb-c722-4dc4-e379-b48d5f3188f8"
      },
      "execution_count": null,
      "outputs": [
        {
          "output_type": "display_data",
          "data": {
            "image/png": "[encoded data removed]",
            "text/plain": [
              "<Figure size 432x288 with 1 Axes>"
            ]
          },
          "metadata": {
            "needs_background": "light"
          }
        }
      ]
    },
    {
      "cell_type": "markdown",
      "source": [
        "**8) Maybe selecting more than one feature might also result in a better fit. Use a forward selection strategy to select to best subset of 3 predictors for predicting the target variable 'Height'. See the class 'SequentialFeaturesSelector()' of the scikit-learn library. Use the MSE as a scoring function.**\n",
        "\n",
        "**Report the selected variables, and fit a multiple linear regression model to predict the variable 'Height' using the selected predictors with a 10 folds cross-validation. Report the mean MSE across each folds.** "
      ],
      "metadata": {
        "id": "zdqIb5hmlgf3"
      }
    },
    {
      "cell_type": "code",
      "source": [
        ""
      ],
      "metadata": {
        "id": "-vRZNmkel8j3"
      },
      "execution_count": null,
      "outputs": []
    },
    {
      "cell_type": "markdown",
      "source": [
        "**9) Usually, models have more than one hyper-parameter that can be tuned in order to find the model that best captures the relationship between our input and target variables. For instance, in the case of a simple linear regression using a polynomial transformation on the input variables, the hyper-parameter space would be the polymial's degree, and whether or not to fit the intercept. Inspecting each combination of hyper-parameters and selecting the combination that results in the best model is called Grid Search. However, manually inspecting each combination could be a very tedious task, but fortunatly, scikit-learn provides a class GridSearchCV() that implements this protocol for you.**\n",
        "\n",
        "**Select 'Weight' as predictor and 'Height' as target variable, and perform a Grid Search on the hyper-parameters space of a simple linear regression using a polynomial transformation of input variable. Search for degrees varying between 1 and 20, and whether or not the intercept should be fit. Report the best subset of hyper-parameters, as well as the test MSE for a model fitted using this subset. Plot the obtained regression curve**"
      ],
      "metadata": {
        "id": "s0qZ8rGFpBKp"
      }
    },
    {
      "cell_type": "code",
      "source": [
        ""
      ],
      "metadata": {
        "id": "BJJ0uaGlrtAk"
      },
      "execution_count": null,
      "outputs": []
    }
  ]
}