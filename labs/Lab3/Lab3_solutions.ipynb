{
  "nbformat": 4,
  "nbformat_minor": 0,
  "metadata": {
    "colab": {
      "name": "Lab3_solutions.ipynb",
      "provenance": []
    },
    "kernelspec": {
      "name": "python3",
      "display_name": "Python 3"
    },
    "language_info": {
      "name": "python"
    }
  },
  "cells": [
    {
      "cell_type": "markdown",
      "source": [
        "This notebook is an introduction to the library scikit-learn (https://scikit-learn.org/stable/), which provides numerous tools to easily perform machine learning tasks. \n",
        "\n",
        "In this lab, we'll experiment with two of the most frequently encountered tasks in machine learning : \n",
        "  - Regression : predicting a continuous variable given a set of predictors. \n",
        "  - Classification : predicting the class of a sample given a set of predictors.\n",
        "\n",
        "In order for you to first have a good feeling of the general pipeline of a machine learning task, we'll experiment with two simple models : a linear regression, and a K-nearest neighbors classifier. "
      ],
      "metadata": {
        "id": "4bV7mOa9W1Eu"
      }
    },
    {
      "cell_type": "markdown",
      "source": [
        "**Import necessary libraries**"
      ],
      "metadata": {
        "id": "jBfdU_joaqrm"
      }
    },
    {
      "cell_type": "code",
      "source": [
        "import numpy as np\n",
        "import pandas as pd\n",
        "import os\n",
        "from sklearn.linear_model import LinearRegression\n",
        "from sklearn.model_selection import train_test_split\n",
        "from sklearn.neighbors import KNeighborsClassifier\n",
        "from sklearn.metrics import mean_squared_error, precision_score, recall_score, accuracy_score, confusion_matrix, \\\n",
        "    roc_auc_score, roc_curve, f1_score\n",
        "import matplotlib.pyplot as plt\n",
        "from mpl_toolkits.mplot3d import Axes3D\n",
        "from mpl_toolkits import mplot3d"
      ],
      "metadata": {
        "id": "y90MCHqMa1j5"
      },
      "execution_count": 75,
      "outputs": []
    },
    {
      "cell_type": "markdown",
      "source": [
        "**Load the 'Pokemon.csv' dataset as a pandas dataframe, change the Type 1 and Type 2 variables to categorical and replace 'Type 2' missing values (replace by the value of 'Type 1').**"
      ],
      "metadata": {
        "id": "zx1zL4ura5ze"
      }
    },
    {
      "cell_type": "code",
      "source": [
        "file = 'Pokemon.csv'\n",
        "\n",
        "##Read dataframe##\n",
        "\n",
        "df = pd.read_csv(file)\n",
        "print(df.head())"
      ],
      "metadata": {
        "colab": {
          "base_uri": "https://localhost:8080/"
        },
        "id": "LuZ28dR_bsXi",
        "outputId": "953949cf-64d3-4c54-e218-15b2cba75dbe"
      },
      "execution_count": 76,
      "outputs": [
        {
          "output_type": "stream",
          "name": "stdout",
          "text": [
            "   #                   Name Type 1  ... Speed  Generation  Legendary\n",
            "0  1              Bulbasaur  Grass  ...    45           1      False\n",
            "1  2                Ivysaur  Grass  ...    60           1      False\n",
            "2  3               Venusaur  Grass  ...    80           1      False\n",
            "3  3  VenusaurMega Venusaur  Grass  ...    80           1      False\n",
            "4  4             Charmander   Fire  ...    65           1      False\n",
            "\n",
            "[5 rows x 13 columns]\n"
          ]
        }
      ]
    },
    {
      "cell_type": "code",
      "source": [
        "##Change variables types##\n",
        "\n",
        "print(df.dtypes)\n",
        "df.astype({'Type 1': 'category', 'Type 2': 'category'})"
      ],
      "metadata": {
        "colab": {
          "base_uri": "https://localhost:8080/",
          "height": 667
        },
        "id": "BRPoZ4YhbuLr",
        "outputId": "7f4450fa-b7c8-4ea6-f53b-c3cd360882cb"
      },
      "execution_count": 77,
      "outputs": [
        {
          "output_type": "stream",
          "name": "stdout",
          "text": [
            "#              int64\n",
            "Name          object\n",
            "Type 1        object\n",
            "Type 2        object\n",
            "Total          int64\n",
            "HP             int64\n",
            "Attack         int64\n",
            "Defense        int64\n",
            "Sp. Atk        int64\n",
            "Sp. Def        int64\n",
            "Speed          int64\n",
            "Generation     int64\n",
            "Legendary       bool\n",
            "dtype: object\n"
          ]
        },
        {
          "output_type": "execute_result",
          "data": {
            "text/html": [
              "\n",
              "  <div id=\"df-ba4fcf51-14d9-43d6-9f9a-1e5feb65c648\">\n",
              "    <div class=\"colab-df-container\">\n",
              "      <div>\n",
              "<style scoped>\n",
              "    .dataframe tbody tr th:only-of-type {\n",
              "        vertical-align: middle;\n",
              "    }\n",
              "\n",
              "    .dataframe tbody tr th {\n",
              "        vertical-align: top;\n",
              "    }\n",
              "\n",
              "    .dataframe thead th {\n",
              "        text-align: right;\n",
              "    }\n",
              "</style>\n",
              "<table border=\"1\" class=\"dataframe\">\n",
              "  <thead>\n",
              "    <tr style=\"text-align: right;\">\n",
              "      <th></th>\n",
              "      <th>#</th>\n",
              "      <th>Name</th>\n",
              "      <th>Type 1</th>\n",
              "      <th>Type 2</th>\n",
              "      <th>Total</th>\n",
              "      <th>HP</th>\n",
              "      <th>Attack</th>\n",
              "      <th>Defense</th>\n",
              "      <th>Sp. Atk</th>\n",
              "      <th>Sp. Def</th>\n",
              "      <th>Speed</th>\n",
              "      <th>Generation</th>\n",
              "      <th>Legendary</th>\n",
              "    </tr>\n",
              "  </thead>\n",
              "  <tbody>\n",
              "    <tr>\n",
              "      <th>0</th>\n",
              "      <td>1</td>\n",
              "      <td>Bulbasaur</td>\n",
              "      <td>Grass</td>\n",
              "      <td>Poison</td>\n",
              "      <td>318</td>\n",
              "      <td>45</td>\n",
              "      <td>49</td>\n",
              "      <td>49</td>\n",
              "      <td>65</td>\n",
              "      <td>65</td>\n",
              "      <td>45</td>\n",
              "      <td>1</td>\n",
              "      <td>False</td>\n",
              "    </tr>\n",
              "    <tr>\n",
              "      <th>1</th>\n",
              "      <td>2</td>\n",
              "      <td>Ivysaur</td>\n",
              "      <td>Grass</td>\n",
              "      <td>Poison</td>\n",
              "      <td>405</td>\n",
              "      <td>60</td>\n",
              "      <td>62</td>\n",
              "      <td>63</td>\n",
              "      <td>80</td>\n",
              "      <td>80</td>\n",
              "      <td>60</td>\n",
              "      <td>1</td>\n",
              "      <td>False</td>\n",
              "    </tr>\n",
              "    <tr>\n",
              "      <th>2</th>\n",
              "      <td>3</td>\n",
              "      <td>Venusaur</td>\n",
              "      <td>Grass</td>\n",
              "      <td>Poison</td>\n",
              "      <td>525</td>\n",
              "      <td>80</td>\n",
              "      <td>82</td>\n",
              "      <td>83</td>\n",
              "      <td>100</td>\n",
              "      <td>100</td>\n",
              "      <td>80</td>\n",
              "      <td>1</td>\n",
              "      <td>False</td>\n",
              "    </tr>\n",
              "    <tr>\n",
              "      <th>3</th>\n",
              "      <td>3</td>\n",
              "      <td>VenusaurMega Venusaur</td>\n",
              "      <td>Grass</td>\n",
              "      <td>Poison</td>\n",
              "      <td>625</td>\n",
              "      <td>80</td>\n",
              "      <td>100</td>\n",
              "      <td>123</td>\n",
              "      <td>122</td>\n",
              "      <td>120</td>\n",
              "      <td>80</td>\n",
              "      <td>1</td>\n",
              "      <td>False</td>\n",
              "    </tr>\n",
              "    <tr>\n",
              "      <th>4</th>\n",
              "      <td>4</td>\n",
              "      <td>Charmander</td>\n",
              "      <td>Fire</td>\n",
              "      <td>NaN</td>\n",
              "      <td>309</td>\n",
              "      <td>39</td>\n",
              "      <td>52</td>\n",
              "      <td>43</td>\n",
              "      <td>60</td>\n",
              "      <td>50</td>\n",
              "      <td>65</td>\n",
              "      <td>1</td>\n",
              "      <td>False</td>\n",
              "    </tr>\n",
              "    <tr>\n",
              "      <th>...</th>\n",
              "      <td>...</td>\n",
              "      <td>...</td>\n",
              "      <td>...</td>\n",
              "      <td>...</td>\n",
              "      <td>...</td>\n",
              "      <td>...</td>\n",
              "      <td>...</td>\n",
              "      <td>...</td>\n",
              "      <td>...</td>\n",
              "      <td>...</td>\n",
              "      <td>...</td>\n",
              "      <td>...</td>\n",
              "      <td>...</td>\n",
              "    </tr>\n",
              "    <tr>\n",
              "      <th>795</th>\n",
              "      <td>719</td>\n",
              "      <td>Diancie</td>\n",
              "      <td>Rock</td>\n",
              "      <td>Fairy</td>\n",
              "      <td>600</td>\n",
              "      <td>50</td>\n",
              "      <td>100</td>\n",
              "      <td>150</td>\n",
              "      <td>100</td>\n",
              "      <td>150</td>\n",
              "      <td>50</td>\n",
              "      <td>6</td>\n",
              "      <td>True</td>\n",
              "    </tr>\n",
              "    <tr>\n",
              "      <th>796</th>\n",
              "      <td>719</td>\n",
              "      <td>DiancieMega Diancie</td>\n",
              "      <td>Rock</td>\n",
              "      <td>Fairy</td>\n",
              "      <td>700</td>\n",
              "      <td>50</td>\n",
              "      <td>160</td>\n",
              "      <td>110</td>\n",
              "      <td>160</td>\n",
              "      <td>110</td>\n",
              "      <td>110</td>\n",
              "      <td>6</td>\n",
              "      <td>True</td>\n",
              "    </tr>\n",
              "    <tr>\n",
              "      <th>797</th>\n",
              "      <td>720</td>\n",
              "      <td>HoopaHoopa Confined</td>\n",
              "      <td>Psychic</td>\n",
              "      <td>Ghost</td>\n",
              "      <td>600</td>\n",
              "      <td>80</td>\n",
              "      <td>110</td>\n",
              "      <td>60</td>\n",
              "      <td>150</td>\n",
              "      <td>130</td>\n",
              "      <td>70</td>\n",
              "      <td>6</td>\n",
              "      <td>True</td>\n",
              "    </tr>\n",
              "    <tr>\n",
              "      <th>798</th>\n",
              "      <td>720</td>\n",
              "      <td>HoopaHoopa Unbound</td>\n",
              "      <td>Psychic</td>\n",
              "      <td>Dark</td>\n",
              "      <td>680</td>\n",
              "      <td>80</td>\n",
              "      <td>160</td>\n",
              "      <td>60</td>\n",
              "      <td>170</td>\n",
              "      <td>130</td>\n",
              "      <td>80</td>\n",
              "      <td>6</td>\n",
              "      <td>True</td>\n",
              "    </tr>\n",
              "    <tr>\n",
              "      <th>799</th>\n",
              "      <td>721</td>\n",
              "      <td>Volcanion</td>\n",
              "      <td>Fire</td>\n",
              "      <td>Water</td>\n",
              "      <td>600</td>\n",
              "      <td>80</td>\n",
              "      <td>110</td>\n",
              "      <td>120</td>\n",
              "      <td>130</td>\n",
              "      <td>90</td>\n",
              "      <td>70</td>\n",
              "      <td>6</td>\n",
              "      <td>True</td>\n",
              "    </tr>\n",
              "  </tbody>\n",
              "</table>\n",
              "<p>800 rows × 13 columns</p>\n",
              "</div>\n",
              "      <button class=\"colab-df-convert\" onclick=\"convertToInteractive('df-ba4fcf51-14d9-43d6-9f9a-1e5feb65c648')\"\n",
              "              title=\"Convert this dataframe to an interactive table.\"\n",
              "              style=\"display:none;\">\n",
              "        \n",
              "  <svg xmlns=\"http://www.w3.org/2000/svg\" height=\"24px\"viewBox=\"0 0 24 24\"\n",
              "       width=\"24px\">\n",
              "    <path d=\"M0 0h24v24H0V0z\" fill=\"none\"/>\n",
              "    <path d=\"M18.56 5.44l.94 2.06.94-2.06 2.06-.94-2.06-.94-.94-2.06-.94 2.06-2.06.94zm-11 1L8.5 8.5l.94-2.06 2.06-.94-2.06-.94L8.5 2.5l-.94 2.06-2.06.94zm10 10l.94 2.06.94-2.06 2.06-.94-2.06-.94-.94-2.06-.94 2.06-2.06.94z\"/><path d=\"M17.41 7.96l-1.37-1.37c-.4-.4-.92-.59-1.43-.59-.52 0-1.04.2-1.43.59L10.3 9.45l-7.72 7.72c-.78.78-.78 2.05 0 2.83L4 21.41c.39.39.9.59 1.41.59.51 0 1.02-.2 1.41-.59l7.78-7.78 2.81-2.81c.8-.78.8-2.07 0-2.86zM5.41 20L4 18.59l7.72-7.72 1.47 1.35L5.41 20z\"/>\n",
              "  </svg>\n",
              "      </button>\n",
              "      \n",
              "  <style>\n",
              "    .colab-df-container {\n",
              "      display:flex;\n",
              "      flex-wrap:wrap;\n",
              "      gap: 12px;\n",
              "    }\n",
              "\n",
              "    .colab-df-convert {\n",
              "      background-color: #E8F0FE;\n",
              "      border: none;\n",
              "      border-radius: 50%;\n",
              "      cursor: pointer;\n",
              "      display: none;\n",
              "      fill: #1967D2;\n",
              "      height: 32px;\n",
              "      padding: 0 0 0 0;\n",
              "      width: 32px;\n",
              "    }\n",
              "\n",
              "    .colab-df-convert:hover {\n",
              "      background-color: #E2EBFA;\n",
              "      box-shadow: 0px 1px 2px rgba(60, 64, 67, 0.3), 0px 1px 3px 1px rgba(60, 64, 67, 0.15);\n",
              "      fill: #174EA6;\n",
              "    }\n",
              "\n",
              "    [theme=dark] .colab-df-convert {\n",
              "      background-color: #3B4455;\n",
              "      fill: #D2E3FC;\n",
              "    }\n",
              "\n",
              "    [theme=dark] .colab-df-convert:hover {\n",
              "      background-color: #434B5C;\n",
              "      box-shadow: 0px 1px 3px 1px rgba(0, 0, 0, 0.15);\n",
              "      filter: drop-shadow(0px 1px 2px rgba(0, 0, 0, 0.3));\n",
              "      fill: #FFFFFF;\n",
              "    }\n",
              "  </style>\n",
              "\n",
              "      <script>\n",
              "        const buttonEl =\n",
              "          document.querySelector('#df-ba4fcf51-14d9-43d6-9f9a-1e5feb65c648 button.colab-df-convert');\n",
              "        buttonEl.style.display =\n",
              "          google.colab.kernel.accessAllowed ? 'block' : 'none';\n",
              "\n",
              "        async function convertToInteractive(key) {\n",
              "          const element = document.querySelector('#df-ba4fcf51-14d9-43d6-9f9a-1e5feb65c648');\n",
              "          const dataTable =\n",
              "            await google.colab.kernel.invokeFunction('convertToInteractive',\n",
              "                                                     [key], {});\n",
              "          if (!dataTable) return;\n",
              "\n",
              "          const docLinkHtml = 'Like what you see? Visit the ' +\n",
              "            '<a target=\"_blank\" href=https://colab.research.google.com/notebooks/data_table.ipynb>data table notebook</a>'\n",
              "            + ' to learn more about interactive tables.';\n",
              "          element.innerHTML = '';\n",
              "          dataTable['output_type'] = 'display_data';\n",
              "          await google.colab.output.renderOutput(dataTable, element);\n",
              "          const docLink = document.createElement('div');\n",
              "          docLink.innerHTML = docLinkHtml;\n",
              "          element.appendChild(docLink);\n",
              "        }\n",
              "      </script>\n",
              "    </div>\n",
              "  </div>\n",
              "  "
            ],
            "text/plain": [
              "       #                   Name   Type 1  ... Speed  Generation  Legendary\n",
              "0      1              Bulbasaur    Grass  ...    45           1      False\n",
              "1      2                Ivysaur    Grass  ...    60           1      False\n",
              "2      3               Venusaur    Grass  ...    80           1      False\n",
              "3      3  VenusaurMega Venusaur    Grass  ...    80           1      False\n",
              "4      4             Charmander     Fire  ...    65           1      False\n",
              "..   ...                    ...      ...  ...   ...         ...        ...\n",
              "795  719                Diancie     Rock  ...    50           6       True\n",
              "796  719    DiancieMega Diancie     Rock  ...   110           6       True\n",
              "797  720    HoopaHoopa Confined  Psychic  ...    70           6       True\n",
              "798  720     HoopaHoopa Unbound  Psychic  ...    80           6       True\n",
              "799  721              Volcanion     Fire  ...    70           6       True\n",
              "\n",
              "[800 rows x 13 columns]"
            ]
          },
          "metadata": {},
          "execution_count": 77
        }
      ]
    },
    {
      "cell_type": "code",
      "source": [
        "##Check for any missing values, replace them accordingly or remove the associated rows###\n",
        "\n",
        "print(df.isna().sum())\n",
        "df['Type 2'].fillna(df['Type 1'], inplace=True)"
      ],
      "metadata": {
        "colab": {
          "base_uri": "https://localhost:8080/"
        },
        "id": "SGYJzwQsb6Le",
        "outputId": "1a104426-90ec-405a-c0d9-23716c69091f"
      },
      "execution_count": 78,
      "outputs": [
        {
          "output_type": "stream",
          "name": "stdout",
          "text": [
            "#               0\n",
            "Name            0\n",
            "Type 1          0\n",
            "Type 2        386\n",
            "Total           0\n",
            "HP              0\n",
            "Attack          0\n",
            "Defense         0\n",
            "Sp. Atk         0\n",
            "Sp. Def         0\n",
            "Speed           0\n",
            "Generation      0\n",
            "Legendary       0\n",
            "dtype: int64\n"
          ]
        }
      ]
    },
    {
      "cell_type": "code",
      "source": [
        "print(df.isna().sum())"
      ],
      "metadata": {
        "colab": {
          "base_uri": "https://localhost:8080/"
        },
        "id": "PaFw_zDvbinl",
        "outputId": "2d669f8a-79d6-4443-9780-4116a182ac1d"
      },
      "execution_count": 79,
      "outputs": [
        {
          "output_type": "stream",
          "name": "stdout",
          "text": [
            "#             0\n",
            "Name          0\n",
            "Type 1        0\n",
            "Type 2        0\n",
            "Total         0\n",
            "HP            0\n",
            "Attack        0\n",
            "Defense       0\n",
            "Sp. Atk       0\n",
            "Sp. Def       0\n",
            "Speed         0\n",
            "Generation    0\n",
            "Legendary     0\n",
            "dtype: int64\n"
          ]
        }
      ]
    },
    {
      "cell_type": "markdown",
      "source": [
        "**Select the target variable y as 'HP' and the predictor as 'Attack', split the dataset in a train and a test set with a 0.8/0.2 ratio.**"
      ],
      "metadata": {
        "id": "ZiupbAY9b-H2"
      }
    },
    {
      "cell_type": "code",
      "source": [
        "##Select a target variable y and a predictor x. Reshape the data x to [num_samples, 1]##\n",
        "\n",
        "y = df['HP'].values\n",
        "x = df['Attack'].values\n",
        "X = x[:, np.newaxis]\n",
        "fig, ax = plt.subplots()\n",
        "\n",
        "ax.scatter(x,y)\n",
        "ax.set_xlabel('Attack')\n",
        "ax.set_ylabel('HP')\n",
        "plt.show()\n",
        "\n",
        "##Define a training set and a validation set##\n",
        "\n",
        "X_train, X_test, y_train, y_test = train_test_split(X, y, train_size=0.8, test_size=0.2, shuffle=True)\n",
        "print((X_train.shape, y_train.shape), (X_test.shape, y_test.shape))"
      ],
      "metadata": {
        "colab": {
          "base_uri": "https://localhost:8080/",
          "height": 296
        },
        "id": "sbGfkAWmcbRN",
        "outputId": "6e304cdf-ea3e-4fbf-ca96-32cb9f845a34"
      },
      "execution_count": 80,
      "outputs": [
        {
          "output_type": "display_data",
          "data": {
            "image/png": "[encoded data removed]",
            "text/plain": [
              "<Figure size 432x288 with 1 Axes>"
            ]
          },
          "metadata": {
            "needs_background": "light"
          }
        },
        {
          "output_type": "stream",
          "name": "stdout",
          "text": [
            "((640, 1), (640,)) ((160, 1), (160,))\n"
          ]
        }
      ]
    },
    {
      "cell_type": "markdown",
      "source": [
        "**Build a linear regression model and fit it to the training data.**"
      ],
      "metadata": {
        "id": "QRsWArmDcj_Z"
      }
    },
    {
      "cell_type": "code",
      "source": [
        "##Define the linear regression model, and reshape the data x to [num_samples, 1]##\n",
        "\n",
        "model = LinearRegression(fit_intercept=True)\n",
        "\n",
        "##Fit the model to the training data##\n",
        "\n",
        "model.fit(X_train,y_train)"
      ],
      "metadata": {
        "colab": {
          "base_uri": "https://localhost:8080/"
        },
        "id": "wofvXKaicjJB",
        "outputId": "abb5bc94-acbd-4a93-bea8-9ebcd078bc45"
      },
      "execution_count": 81,
      "outputs": [
        {
          "output_type": "execute_result",
          "data": {
            "text/plain": [
              "LinearRegression()"
            ]
          },
          "metadata": {},
          "execution_count": 81
        }
      ]
    },
    {
      "cell_type": "markdown",
      "source": [
        "**Get the model's parameters, and compute the coefficient of determination and the mean square error on both the training and test sets.**"
      ],
      "metadata": {
        "id": "HZtL8vxjc8yb"
      }
    },
    {
      "cell_type": "code",
      "source": [
        "##Get the model's parameters##\n",
        "\n",
        "print('Model\\'s coefficients : {}'.format(model.coef_))\n",
        "print('Model\\'s intercept : {}'.format(model.intercept_))"
      ],
      "metadata": {
        "colab": {
          "base_uri": "https://localhost:8080/"
        },
        "id": "FyO_-2aGeJCw",
        "outputId": "7b91220e-cbfe-4bfc-c64e-ff99d1dbbb37"
      },
      "execution_count": 82,
      "outputs": [
        {
          "output_type": "stream",
          "name": "stdout",
          "text": [
            "Model's coefficients : [0.28936733]\n",
            "Model's intercept : 46.160266171185626\n"
          ]
        }
      ]
    },
    {
      "cell_type": "code",
      "source": [
        "##Make predictions for both the training and the test sets##\n",
        "\n",
        "y_pred_train = model.predict(X_train)\n",
        "y_pred_test = model.predict(X_test)\n",
        "\n",
        "##Compute th coefficient of determination and the mean square error on both sets##\n",
        "\n",
        "MSE_train = mean_squared_error(y_train, y_pred_train)\n",
        "MSE_test = mean_squared_error(y_test, y_pred_test)\n",
        "R2_train = model.score(X_train, y_train)\n",
        "R2_test = model.score(X_test, y_test)\n",
        "\n",
        "print('MSE on training set : {}'.format(MSE_train))\n",
        "print('R2 on training set : {}'.format(R2_train))\n",
        "print('MSE on test set : {}'.format(MSE_train))\n",
        "print('R2 on test set : {}'.format(R2_test))"
      ],
      "metadata": {
        "colab": {
          "base_uri": "https://localhost:8080/"
        },
        "id": "EF08yODueNB9",
        "outputId": "c0f7b0e1-c431-4013-ea61-9d132b9155f4"
      },
      "execution_count": 83,
      "outputs": [
        {
          "output_type": "stream",
          "name": "stdout",
          "text": [
            "MSE on training set : 545.3210184939704\n",
            "R2 on training set : 0.14071187533206564\n",
            "MSE on test set : 545.3210184939704\n",
            "R2 on test set : 0.29218208956238256\n"
          ]
        }
      ]
    },
    {
      "cell_type": "markdown",
      "source": [
        "**Plot the regression line**"
      ],
      "metadata": {
        "id": "MAjY7FyheSwV"
      }
    },
    {
      "cell_type": "code",
      "source": [
        "##Generate predictions out of the fitted model##\n",
        "\n",
        "xfit = np.linspace(0,200)\n",
        "xfit = xfit[:, np.newaxis]\n",
        "yfit = model.predict(xfit)\n",
        "\n",
        "##Plot the regression line##\n",
        "\n",
        "fig, ax = plt.subplots()\n",
        "ax.scatter(x,y)\n",
        "ax.set_xlabel('Attack')\n",
        "ax.set_ylabel('HP')\n",
        "ax.plot(xfit, yfit, label='Regression line', color='red')\n",
        "ax.legend()\n",
        "plt.show()"
      ],
      "metadata": {
        "colab": {
          "base_uri": "https://localhost:8080/",
          "height": 279
        },
        "id": "PIZ5v8MDem9w",
        "outputId": "3dd4d060-cf1e-4cbe-c603-daaee7439d44"
      },
      "execution_count": 84,
      "outputs": [
        {
          "output_type": "display_data",
          "data": {
            "image/png": "[encoded data removed]",
            "text/plain": [
              "<Figure size 432x288 with 1 Axes>"
            ]
          },
          "metadata": {
            "needs_background": "light"
          }
        }
      ]
    },
    {
      "cell_type": "markdown",
      "source": [
        "**Your turn !**"
      ],
      "metadata": {
        "id": "J3OzPndKsEsA"
      }
    },
    {
      "cell_type": "markdown",
      "source": [
        "**1) Do the same as above, but now include 'Defense' as a second predictor.**"
      ],
      "metadata": {
        "id": "PLEEhDHje0Zm"
      }
    },
    {
      "cell_type": "code",
      "source": [
        "##1##\n",
        "\n",
        "##Extract the 'Attack' and 'Defense' as predictors and 'HP' as the targt variable##\n",
        "\n",
        "X = df[['Attack', 'Defense']].values \n",
        "y = df['HP'].values \n",
        "x = df['Attack'].values\n",
        "\n",
        "##Split the dataset in a train and test split##\n",
        "\n",
        "X_train, X_test, y_train, y_test = train_test_split(X,y,train_size=0.8,test_size=0.2, shuffle=True)"
      ],
      "metadata": {
        "id": "YkbDiZxafwpD"
      },
      "execution_count": 85,
      "outputs": []
    },
    {
      "cell_type": "code",
      "source": [
        "##Fit the model to the training data##\n",
        "\n",
        "model.fit(X_train,y_train)\n",
        "\n",
        "##Get the model's coefficients##\n",
        "\n",
        "coef = model.coef_\n",
        "intercept = model.intercept_\n",
        "\n",
        "print('Model\\'s coefficients : {}'.format(coef))\n",
        "print('Model\\'s intercept : {}'.format(intercept))"
      ],
      "metadata": {
        "colab": {
          "base_uri": "https://localhost:8080/"
        },
        "id": "Q9Z0y3gxf2QS",
        "outputId": "69ffa580-2d41-47bc-cc5b-a0442f8fa6bd"
      },
      "execution_count": 86,
      "outputs": [
        {
          "output_type": "stream",
          "name": "stdout",
          "text": [
            "Model's coefficients : [0.3116537 0.0363061]\n",
            "Model's intercept : 42.37750647466131\n"
          ]
        }
      ]
    },
    {
      "cell_type": "code",
      "source": [
        "##Plot the regression plane##\n",
        "\n",
        "z = df['Defense']\n",
        "xf = np.linspace(0,200)\n",
        "zf = np.linspace(0,200)\n",
        "xx, zz = np.meshgrid(xf, zf)\n",
        "\n",
        "xx_new = xx.flatten()[:,np.newaxis]\n",
        "zz_new = zz.flatten()[:,np.newaxis]\n",
        "\n",
        "Xfit = np.concatenate((xx_new,zz_new), axis=-1)\n",
        "yfit = model.predict(Xfit)\n",
        "yfit = yfit[:,np.newaxis].reshape(xx.shape[0], xx.shape[1])\n",
        "\n",
        "fig = plt.figure()\n",
        "ax = plt.axes(projection='3d')\n",
        "ax.scatter3D(x,z,y)\n",
        "ax.plot_surface(xx,zz,yfit, color='red')\n",
        "ax.set_xlabel('Attack')\n",
        "ax.set_ylabel('Defense')\n",
        "ax.set_zlabel('HP')\n",
        "\n",
        "plt.show()"
      ],
      "metadata": {
        "colab": {
          "base_uri": "https://localhost:8080/",
          "height": 248
        },
        "id": "EWTI84PBV5TB",
        "outputId": "b5335c11-f01b-422b-cec2-14e8632dec3f"
      },
      "execution_count": 87,
      "outputs": [
        {
          "output_type": "display_data",
          "data": {
            "image/png": "[encoded data removed]",
            "text/plain": [
              "<Figure size 432x288 with 1 Axes>"
            ]
          },
          "metadata": {
            "needs_background": "light"
          }
        }
      ]
    },
    {
      "cell_type": "code",
      "source": [
        "##Predict on the training and test sets##\n",
        "\n",
        "y_pred_train = model.predict(X_train)\n",
        "y_pred_test = model.predict(X_test)\n",
        "\n",
        "##Compute the coefficient of determination and the means square error on both training and test sets##\n",
        "\n",
        "MSE_train = mean_squared_error(y_train, y_pred_train)\n",
        "MSE_test = mean_squared_error(y_test, y_pred_test)\n",
        "R2_train = model.score(X_train, y_train)\n",
        "R2_test = model.score(X_test, y_test)\n",
        "\n",
        "\n",
        "print('R2 on training set : {}'.format(R2_train))\n",
        "print('R2 on test set : {}'.format(R2_test))\n",
        "print('MSE on training set : {}'.format(MSE_train))\n",
        "print('MSE on test set : {}'.format(MSE_test))"
      ],
      "metadata": {
        "colab": {
          "base_uri": "https://localhost:8080/"
        },
        "id": "qCTnZI0vgrw4",
        "outputId": "9ff030de-b4e0-4425-d4f5-586d733e3ec9"
      },
      "execution_count": 88,
      "outputs": [
        {
          "output_type": "stream",
          "name": "stdout",
          "text": [
            "R2 on training set : 0.16855375304500464\n",
            "R2 on test set : 0.23442389679184927\n",
            "MSE on training set : 549.0761217704516\n",
            "MSE on test set : 469.3286546894586\n"
          ]
        }
      ]
    },
    {
      "cell_type": "markdown",
      "source": [
        "**Let's now experiment with classification. Select the variables 'HP', 'Attack' and 'Defense' as predictors, and 'Legendary' as the target variable.**"
      ],
      "metadata": {
        "id": "Zciw48DXgzuX"
      }
    },
    {
      "cell_type": "markdown",
      "source": [
        "**2) Apply the same methodology as above, but this time use the KNeighborsClassifier of the sklearn library to predict whether a Pokemon is legendary or not. Set the number of neighbors to 5.**"
      ],
      "metadata": {
        "id": "lw9udYmhhX49"
      }
    },
    {
      "cell_type": "markdown",
      "source": [
        "**3) Create functions that, given arrays of true class labels and predicted labels, compute :**\n",
        "\n",
        "*   **a) The accuracy**\n",
        "*   **b) The recall score**\n",
        "*   **c) The precision score**\n",
        "*    **d) The confusion matrix**\n",
        "*   **e) The F1-score**\n",
        "\n",
        "**Compare the result of your implementation of these metrics on predictions for the training and test sets to the methods of the sklearn library.**\n",
        "\n"
      ],
      "metadata": {
        "id": "WbwwdoxDjFeQ"
      }
    },
    {
      "cell_type": "code",
      "source": [
        "###2###\n",
        "\n",
        "##Select 'HP', 'Defense' and 'Attack' as predictors, and 'Legendary' as the target variables## \n",
        "\n",
        "X = df[['HP', 'Defense', 'Attack']].values\n",
        "y = df['Legendary'].astype(int).values"
      ],
      "metadata": {
        "id": "oyaDNpPInZ-V"
      },
      "execution_count": 90,
      "outputs": []
    },
    {
      "cell_type": "code",
      "source": [
        "##Plot the data per class##\n",
        "\n",
        "data = df[['Attack', 'Defense', 'HP', 'Legendary']]\n",
        "groups = df.groupby('Legendary')\n",
        "\n",
        "fig = plt.figure()\n",
        "ax = plt.axes(projection='3d')\n",
        "\n",
        "for name, group in groups:\n",
        "    ax.plot(group.Attack, group.Defense, group.HP , marker='o', linestyle='', ms=4, label=name)\n",
        "ax.legend()\n",
        "ax.set_xlabel('Attack')\n",
        "ax.set_ylabel('Defense')\n",
        "ax.set_zlabel('HP')\n",
        "plt.show()"
      ],
      "metadata": {
        "colab": {
          "base_uri": "https://localhost:8080/",
          "height": 248
        },
        "id": "5SbdHrTjTWcO",
        "outputId": "69219616-8472-456a-c5d9-80c8db27f2a4"
      },
      "execution_count": 91,
      "outputs": [
        {
          "output_type": "display_data",
          "data": {
            "image/png": "[encoded data removed]",
            "text/plain": [
              "<Figure size 432x288 with 1 Axes>"
            ]
          },
          "metadata": {
            "needs_background": "light"
          }
        }
      ]
    },
    {
      "cell_type": "code",
      "source": [
        "##Split the dataset in a training and test set##\n",
        "\n",
        "X_train, X_test, y_train, y_test = train_test_split(X, y, train_size=0.8, test_size=0.2, shuffle=True)\n",
        "\n",
        "##Build the KNeighbors classifier and set the number of neighbors to 5##\n",
        "\n",
        "n_neighbors = 5\n",
        "model = KNeighborsClassifier(n_neighbors=n_neighbors)\n",
        "\n",
        "##Fit the model to the training data##\n",
        "\n",
        "model.fit(X_train, y_train)\n",
        "\n",
        "##Predict the target variable for the training and test sets##\n",
        "\n",
        "y_train_pred = model.predict(X_train)\n",
        "y_test_pred = model.predict(X_test)"
      ],
      "metadata": {
        "id": "_jU-UmU0Wk-j"
      },
      "execution_count": 92,
      "outputs": []
    },
    {
      "cell_type": "code",
      "source": [
        "###3###\n",
        "\n",
        "#The accuracy is defined as (tp + tn)/(tp + tn + fp + fn) \n",
        "#The precision is defined as tp/(tp + fp)\n",
        "#The recall is defined as tp/(tp + fn)\n",
        "#The F1 score is defined as (2 * precision * recall)/(precision + recall)\n",
        "#The confusion matrix is a 2x2 matrix containing tn, fp, fn, tp\n",
        "\n",
        "#tn is number of true negatives (when the model predicts 0 when it is indeed 0)\n",
        "#tp is the number of true positives (when the model predicts 1 when it is indeed 1)\n",
        "#fn is the number of false negatives (when the model predicts 0, but it should have predicted 1)\n",
        "#fp is the number of false positives (when the model predictes 1, but it should have predicted 0)\n",
        "\n",
        "def accuracy(y_true, y_pred):\n",
        "    score = 0\n",
        "    for i, elem in enumerate(y_true):\n",
        "        if elem == y_pred[i] :\n",
        "            score += 1\n",
        "    return score/len(y_true)\n",
        "\n",
        "\n",
        "def precision(y_true, y_pred):\n",
        "    tp = 0\n",
        "    fp = 0\n",
        "    for i, elem in enumerate(y_true):\n",
        "        if elem == 1 and elem == y_pred[i]:\n",
        "            tp +=1\n",
        "        elif elem == 0 and elem != y_pred[i]:\n",
        "            fp +=1\n",
        "    return tp/(tp+fp)\n",
        "\n",
        "def recall(y_true, y_pred):\n",
        "    tp = 0\n",
        "    fn = 0\n",
        "    for i, elem in enumerate(y_true):\n",
        "        if elem == 1 and elem == y_pred[i]:\n",
        "            tp += 1\n",
        "        elif elem == 1 and elem != y_pred[i]:\n",
        "            fn += 1\n",
        "    return tp/(tp + fn)\n",
        "\n",
        "def conf_matrix(y_true, y_pred):\n",
        "    tp, tn, fp, fn = 0, 0, 0, 0\n",
        "    for i, elem in enumerate(y_true):\n",
        "        if elem == 1 and elem == y_pred[i]:\n",
        "            tp += 1\n",
        "        elif elem == 0 and elem != y_pred[i]:\n",
        "            fp += 1\n",
        "        elif elem == 0 and elem == y_pred[i]:\n",
        "            tn += 1\n",
        "        else:\n",
        "            fn += 1\n",
        "    return tn, fp, fn, tp\n",
        "\n",
        "def f1(y_true, y_pred):\n",
        "    prec = precision(y_true, y_pred)\n",
        "    rec = recall(y_true, y_pred)\n",
        "    return 2 * rec * prec/(rec + prec)\n",
        "\n",
        "##Compute metrics for the training set##\n",
        "\n",
        "acc_train_1 = accuracy(y_train_true, y_train_pred)\n",
        "precision_train_1 = precision(y_train_true, y_train_pred)\n",
        "recall_train_1 = recall(y_train_true, y_train_pred)\n",
        "confusion_m_train_1 = conf_matrix(y_train_true, y_train_pred)\n",
        "f1_train_1 = f1(y_train_true, y_train_pred)\n",
        "\n",
        "acc_train_2 = accuracy_score(y_train_true, y_train_pred)\n",
        "precision_train_2 = precision_score(y_train_true, y_train_pred)\n",
        "recall_train_2  = recall_score(y_train_true, y_train_pred)\n",
        "confusion_m_train_2 = confusion_matrix(y_train_true, y_train_pred).ravel()\n",
        "f1_train_2 = f1_score(y_train_true, y_train_pred)\n",
        "\n",
        "print('Train Accuracy : {}'.format(acc_train_2))\n",
        "print('Train Precision : {}'.format(precision_train_2))\n",
        "print('Train Recall : {}'.format(recall_train_2))\n",
        "print('Train confusion matrix : {}'.format(confusion_m_train_2))\n",
        "print('Train F1 : {}'.format(f1_train_2))\n",
        "\n",
        "\n",
        "##Compute metrics for the test set##\n",
        "\n",
        "acc_test_1 = accuracy(y_test_true, y_test_pred)\n",
        "precision_test_1 = precision(y_test_true, y_test_pred)\n",
        "recall_test_1 = recall(y_test_true, y_test_pred)\n",
        "confusion_m_test_1 = conf_matrix(y_test_true, y_test_pred)\n",
        "f1_test_1 = f1(y_test_true, y_test_pred)\n",
        "\n",
        "acc_test_2 = accuracy_score(y_test_true, y_test_pred)\n",
        "precision_test_2 = precision_score(y_test_true, y_test_pred)\n",
        "recall_test_2  = recall_score(y_test_true, y_test_pred)\n",
        "confusion_m_test_2 = confusion_matrix(y_test_true, y_test_pred).ravel()\n",
        "f1_test_2 = f1_score(y_test_true, y_test_pred)\n",
        "\n",
        "print('\\nTest Accuracy : {}'.format(acc_test_2))\n",
        "print('Test Precision : {}'.format(precision_test_2))\n",
        "print('Test Recall : {}'.format(recall_test_2))\n",
        "print('Test confusion matrix : {}'.format(confusion_m_test_2))\n",
        "print('Test F1 : {}'.format(f1_test_2))"
      ],
      "metadata": {
        "colab": {
          "base_uri": "https://localhost:8080/"
        },
        "id": "g8Uj7kRondQ7",
        "outputId": "4e86d796-eb72-4ba7-bfb5-505b3e0caf92"
      },
      "execution_count": 93,
      "outputs": [
        {
          "output_type": "stream",
          "name": "stdout",
          "text": [
            "Train Accuracy : 0.8875\n",
            "Train Precision : 0.05263157894736842\n",
            "Train Recall : 0.01818181818181818\n",
            "Train confusion matrix : [567  18  54   1]\n",
            "Train F1 : 0.027027027027027025\n",
            "\n",
            "Test Accuracy : 0.91875\n",
            "Test Precision : 0.2\n",
            "Test Recall : 0.1\n",
            "Test confusion matrix : [146   4   9   1]\n",
            "Test F1 : 0.13333333333333333\n"
          ]
        }
      ]
    },
    {
      "cell_type": "markdown",
      "source": [
        "Lets look at the distribution of the target variable \"Legendary\". "
      ],
      "metadata": {
        "id": "KefhsgtLNeFG"
      }
    },
    {
      "cell_type": "code",
      "source": [
        "df['Legendary'].astype(int).value_counts().plot(kind='bar')\n",
        "print(df['Legendary'].astype(int).value_counts())"
      ],
      "metadata": {
        "colab": {
          "base_uri": "https://localhost:8080/",
          "height": 314
        },
        "id": "M0ddv0AoNmeJ",
        "outputId": "830383fa-924d-42df-dac1-a1ca3ad20337"
      },
      "execution_count": 94,
      "outputs": [
        {
          "output_type": "stream",
          "name": "stdout",
          "text": [
            "0    735\n",
            "1     65\n",
            "Name: Legendary, dtype: int64\n"
          ]
        },
        {
          "output_type": "display_data",
          "data": {
            "image/png": "[encoded data removed]",
            "text/plain": [
              "<Figure size 432x288 with 1 Axes>"
            ]
          },
          "metadata": {
            "needs_background": "light"
          }
        }
      ]
    },
    {
      "cell_type": "markdown",
      "source": [
        "As you can see, the two classes are highly imbalanced, with a vast majority of Pokemons belonging to the non-legendary class. \n",
        "\n",
        "When dealing with imbalanced datasets, the accuracy can be very misleading. Indeed, suppose that we have a dataset which contains 90 samples belonging to the category '0' and 10 samples belonging to the category '1'. Even if my model always predicts '0' whatever the input, the accuracy would still reach 90%, even though it wrongly classified all the samples belonging to the '1' category. \n",
        "\n",
        "The precision and recall metrics specifically focus on the minority class (the class '1'), and are to be preferred when dealing with imbalanced datasets. Finally, the F1-score can be seen as an 'average' of the precision and the recall. \n",
        "\n",
        "But in the end, all these metrics are merely 'summaries' of the behavior of a classifier, and as a result, they do not always allow to grasp what is really happening. In this sense, computing the confusion matrix always remains the best way to get real insight on the behavior of a binary classifier. "
      ],
      "metadata": {
        "id": "zJEIIjy4PHtl"
      }
    }
  ]
}