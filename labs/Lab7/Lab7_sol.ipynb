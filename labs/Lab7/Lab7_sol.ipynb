{
  "nbformat": 4,
  "nbformat_minor": 0,
  "metadata": {
    "colab": {
      "name": "Lab7_sol",
      "provenance": []
    },
    "kernelspec": {
      "name": "python3",
      "display_name": "Python 3"
    },
    "language_info": {
      "name": "python"
    }
  },
  "cells": [
    {
      "cell_type": "markdown",
      "source": [
        "**In this lab about linear regression, we'll be working with the library [StatsModel](https://www.statsmodels.org/stable/index.html), which provides numerous classes and functions for the estimation of statistical models.**\n",
        "\n",
        "**The dataset that we'll be considering is 'diamond.csv' [[1]](https://www.kaggle.com/datasets/shivam2503/diamonds), which contains several information about diverse diamonds, such as their dimensions, the quality of their cuts, their prices, etc... The goal of the lab will be to define linear regression models to best estimate diamonds prices using a bunch of predictor variables, and to understand the meaning of the obtained coefficients.**\n",
        "\n",
        "**Dataset's column information :**\n",
        "\n",
        "*   'price' : price in US dollars.\n",
        "*   'carat' : weight of the diamond. \n",
        "*   'cut' : quality of the cut (Fair, Good, Very Good, Premium, Ideal)\n",
        "*   'color' : diamond's color's, from J (worst) to D (best).\n",
        "*  'clarity' : how clear the diamond is (I1 (worst), SI2, SI1, VS2, VS1, VVS2, VVS1, IF (best))\n",
        "* 'x' : length in mm.\n",
        "* 'y' : width in mm. \n",
        "* 'z' : height in mm.\n",
        "* 'table' : width of top of the diamond relative to its widest point. \n",
        "* 'depth' = 2z/(x+y) \n",
        "\n"
      ],
      "metadata": {
        "id": "5FnAdl_9MJ7-"
      }
    },
    {
      "cell_type": "markdown",
      "source": [
        "**Import necessary libraries**"
      ],
      "metadata": {
        "id": "u6jRRhX7PZQD"
      }
    },
    {
      "cell_type": "code",
      "execution_count": 15,
      "metadata": {
        "id": "ujsqLRDOa1-s"
      },
      "outputs": [],
      "source": [
        "import statsmodels.api as sm\n",
        "import numpy as np\n",
        "import pandas as pd \n",
        "from patsy import dmatrices\n",
        "import matplotlib.pyplot as plt "
      ]
    },
    {
      "cell_type": "markdown",
      "source": [
        "**1) Load the dataset, take a look at its properties (shape, data type, etc...). Be careful to set the dataframe incides correctly. Check for missing values, and replace them appropriately if any are present.**"
      ],
      "metadata": {
        "id": "Nd9BGtrOPfq3"
      }
    },
    {
      "cell_type": "code",
      "source": [
        "file = 'diamonds.csv'\n",
        "df = pd.read_csv(file, index_col=0)\n",
        "print(df.shape)\n",
        "print(df.info())\n",
        "print(df.head())\n",
        "print(df.isna().sum())"
      ],
      "metadata": {
        "colab": {
          "base_uri": "https://localhost:8080/"
        },
        "id": "z0QYojPwf0-s",
        "outputId": "361f8e75-f41e-44c4-defb-3628e888f261"
      },
      "execution_count": 16,
      "outputs": [
        {
          "output_type": "stream",
          "name": "stdout",
          "text": [
            "(53940, 10)\n",
            "<class 'pandas.core.frame.DataFrame'>\n",
            "Int64Index: 53940 entries, 1 to 53940\n",
            "Data columns (total 10 columns):\n",
            " #   Column   Non-Null Count  Dtype  \n",
            "---  ------   --------------  -----  \n",
            " 0   carat    53940 non-null  float64\n",
            " 1   cut      53940 non-null  object \n",
            " 2   color    53940 non-null  object \n",
            " 3   clarity  53940 non-null  object \n",
            " 4   depth    53940 non-null  float64\n",
            " 5   table    53940 non-null  float64\n",
            " 6   price    53940 non-null  int64  \n",
            " 7   x        53940 non-null  float64\n",
            " 8   y        53940 non-null  float64\n",
            " 9   z        53940 non-null  float64\n",
            "dtypes: float64(6), int64(1), object(3)\n",
            "memory usage: 4.5+ MB\n",
            "None\n",
            "   carat      cut color clarity  depth  table  price     x     y     z\n",
            "1   0.23    Ideal     E     SI2   61.5   55.0    326  3.95  3.98  2.43\n",
            "2   0.21  Premium     E     SI1   59.8   61.0    326  3.89  3.84  2.31\n",
            "3   0.23     Good     E     VS1   56.9   65.0    327  4.05  4.07  2.31\n",
            "4   0.29  Premium     I     VS2   62.4   58.0    334  4.20  4.23  2.63\n",
            "5   0.31     Good     J     SI2   63.3   58.0    335  4.34  4.35  2.75\n",
            "carat      0\n",
            "cut        0\n",
            "color      0\n",
            "clarity    0\n",
            "depth      0\n",
            "table      0\n",
            "price      0\n",
            "x          0\n",
            "y          0\n",
            "z          0\n",
            "dtype: int64\n"
          ]
        }
      ]
    },
    {
      "cell_type": "markdown",
      "source": [
        "**2) Generate scatter plots of the variable 'price' against the variables 'x', 'y' and 'z'. Do you notice anything strange ? How would you handle such cases ?** "
      ],
      "metadata": {
        "id": "an3oV-dUZtP-"
      }
    },
    {
      "cell_type": "code",
      "source": [
        "y = df.price.values \n",
        "X = df.x.values \n",
        "\n",
        "\n",
        "fig, ax = plt.subplots()\n",
        "ax.scatter(X,y)\n",
        "ax.set_xlabel('x')\n",
        "ax.set_ylabel('price')\n",
        "plt.show()"
      ],
      "metadata": {
        "colab": {
          "base_uri": "https://localhost:8080/",
          "height": 279
        },
        "id": "AE9Eo-7_Z_0G",
        "outputId": "5e7cae5f-7855-4e5c-a2a4-63313ed506a5"
      },
      "execution_count": 11,
      "outputs": [
        {
          "output_type": "display_data",
          "data": {
            "text/plain": [
              "<Figure size 432x288 with 1 Axes>"
            ],
            "image/png": "[encoded data removed]"
          },
          "metadata": {
            "needs_background": "light"
          }
        }
      ]
    },
    {
      "cell_type": "code",
      "source": [
        "y = df.price.values \n",
        "X = df.y.values \n",
        "\n",
        "fig, ax = plt.subplots()\n",
        "ax.scatter(X,y)\n",
        "ax.set_xlabel('y')\n",
        "ax.set_ylabel('price')\n",
        "plt.show()"
      ],
      "metadata": {
        "colab": {
          "base_uri": "https://localhost:8080/",
          "height": 279
        },
        "id": "Okib0LkJaDtw",
        "outputId": "5e9fb2eb-d550-4706-91af-ce7f60ef1918"
      },
      "execution_count": 10,
      "outputs": [
        {
          "output_type": "display_data",
          "data": {
            "text/plain": [
              "<Figure size 432x288 with 1 Axes>"
            ],
            "image/png": "[encoded data removed]"
          },
          "metadata": {
            "needs_background": "light"
          }
        }
      ]
    },
    {
      "cell_type": "code",
      "source": [
        "y = df.price.values \n",
        "X = df.z.values \n",
        "\n",
        "fig, ax = plt.subplots()\n",
        "ax.scatter(X,y)\n",
        "ax.set_xlabel('z')\n",
        "ax.set_ylabel('price')\n",
        "plt.show()"
      ],
      "metadata": {
        "id": "F9bG8nfEaGFv",
        "colab": {
          "base_uri": "https://localhost:8080/",
          "height": 279
        },
        "outputId": "4053abbd-2b58-4e25-9262-843d4cd2678f"
      },
      "execution_count": 12,
      "outputs": [
        {
          "output_type": "display_data",
          "data": {
            "text/plain": [
              "<Figure size 432x288 with 1 Axes>"
            ],
            "image/png": "[encoded data removed]"
          },
          "metadata": {
            "needs_background": "light"
          }
        }
      ]
    },
    {
      "cell_type": "code",
      "source": [
        "'''\n",
        "The dimensional variables 'x', 'y' and 'z' take on the value 0, which is impossible.\n",
        "Such outliers are likely to have resulted from an encoding error, and therefore, they\n",
        "must be discarded. Also, some realizations take on very large values compared to the rest \n",
        "of the distribution. However, we cannot guarantee that these values resulted from a mistake\n",
        "in measurement or encoding, and a such, we cannot delete them. \n",
        "'''\n",
        "\n",
        "#Remove impossible outliers\n",
        "cols = ['x', 'y', 'z']\n",
        "for col in cols:\n",
        "  df = df[df[col] != 0]"
      ],
      "metadata": {
        "id": "-XWKqWmJn-CV"
      },
      "execution_count": 17,
      "outputs": []
    },
    {
      "cell_type": "markdown",
      "source": [
        "**3) Select 'price' a the target variable and 'x' as the predictor. Fit a linear regression model to the data, and output the model's summary.**\n",
        "\n",
        "* **3.1) Is there evidence of a linear relationship between the target and the predictor variables ? What can you say regarding the statistical significance of the estimated coefficients ?**\n",
        "\n",
        "* **3.2) How do you interpret the value of the coefficients ?**\n",
        "\n",
        "* **3.3) What are the estimates' 95% confidence intervals, and how do you interpret them ?**"
      ],
      "metadata": {
        "id": "_s5Umk7Yh7YC"
      }
    },
    {
      "cell_type": "code",
      "source": [
        "y, X = dmatrices('price ~ x', data=df, return_type='dataframe')\n",
        "\n",
        "mod = sm.OLS(y, X)\n",
        "\n",
        "res = mod.fit()\n",
        "\n",
        "print(res.summary())"
      ],
      "metadata": {
        "colab": {
          "base_uri": "https://localhost:8080/"
        },
        "id": "R38E-trKm5SJ",
        "outputId": "1d25a88d-d2df-458e-82c9-51a03395d713"
      },
      "execution_count": 7,
      "outputs": [
        {
          "output_type": "stream",
          "name": "stdout",
          "text": [
            "                            OLS Regression Results                            \n",
            "==============================================================================\n",
            "Dep. Variable:                  price   R-squared:                       0.787\n",
            "Model:                            OLS   Adj. R-squared:                  0.787\n",
            "Method:                 Least Squares   F-statistic:                 1.994e+05\n",
            "Date:                Tue, 22 Mar 2022   Prob (F-statistic):               0.00\n",
            "Time:                        13:13:01   Log-Likelihood:            -4.8184e+05\n",
            "No. Observations:               53920   AIC:                         9.637e+05\n",
            "Df Residuals:                   53918   BIC:                         9.637e+05\n",
            "Df Model:                           1                                         \n",
            "Covariance Type:            nonrobust                                         \n",
            "==============================================================================\n",
            "                 coef    std err          t      P>|t|      [0.025      0.975]\n",
            "------------------------------------------------------------------------------\n",
            "Intercept  -1.418e+04     41.327   -343.177      0.000   -1.43e+04   -1.41e+04\n",
            "x           3160.2360      7.077    446.578      0.000    3146.366    3174.106\n",
            "==============================================================================\n",
            "Omnibus:                    12156.158   Durbin-Watson:                   0.416\n",
            "Prob(Omnibus):                  0.000   Jarque-Bera (JB):            34567.308\n",
            "Skew:                           1.190   Prob(JB):                         0.00\n",
            "Kurtosis:                       6.119   Cond. No.                         31.3\n",
            "==============================================================================\n",
            "\n",
            "Warnings:\n",
            "[1] Standard Errors assume that the covariance matrix of the errors is correctly specified.\n"
          ]
        }
      ]
    },
    {
      "cell_type": "markdown",
      "source": [
        "* 3.1) The F-statistic and the R2 values all take on large values, indicating evidence of a linear relationship between 'price' and 'x'. All coefficients are statistically significant at the 5% level.  \n",
        "\n",
        "* 3.2) \n",
        "  * A unit increase of 'x' results in an increase of the average price of the diamonds by 3160.24$.\n",
        "  * The intercept in this case does not mean anything by itself, as the variable 'x' cannot take on the value 0. Otherwise, it could have been interpreted as the mean price when the length of the diamonds is equal to 0.  \n",
        "\n",
        "* 3.3) [-1.43e+04, -1.41e+0.4] and [3146.366,     3174.106]. This means that we know with 95% confidence that the true coefficient's estimates lie within these intervals. "
      ],
      "metadata": {
        "id": "djjiFHMmheXw"
      }
    },
    {
      "cell_type": "markdown",
      "source": [
        "**4) Add 'y' as another predictor variable, fit the model and output its summary.**\n",
        "\n",
        "* **4.1) Is there still evidence of a linear relationship between the target and predictor variables ?**\n",
        "\n",
        "* **4.2) How do you interpret the coefficients ?**\n",
        "\n"
      ],
      "metadata": {
        "id": "839JBIPRjiAm"
      }
    },
    {
      "cell_type": "code",
      "source": [
        "y, X = dmatrices('price ~ x + y', data=df, return_type='dataframe')\n",
        "\n",
        "mod = sm.OLS(y, X)\n",
        "\n",
        "res = mod.fit()\n",
        "\n",
        "print(res.summary())"
      ],
      "metadata": {
        "colab": {
          "base_uri": "https://localhost:8080/"
        },
        "id": "8MLESTI2nGCX",
        "outputId": "a7d88494-182f-4efb-ccc7-7252545b084c"
      },
      "execution_count": 8,
      "outputs": [
        {
          "output_type": "stream",
          "name": "stdout",
          "text": [
            "                            OLS Regression Results                            \n",
            "==============================================================================\n",
            "Dep. Variable:                  price   R-squared:                       0.787\n",
            "Model:                            OLS   Adj. R-squared:                  0.787\n",
            "Method:                 Least Squares   F-statistic:                 9.981e+04\n",
            "Date:                Tue, 22 Mar 2022   Prob (F-statistic):               0.00\n",
            "Time:                        13:13:06   Log-Likelihood:            -4.8182e+05\n",
            "No. Observations:               53920   AIC:                         9.636e+05\n",
            "Df Residuals:                   53917   BIC:                         9.637e+05\n",
            "Df Model:                           2                                         \n",
            "Covariance Type:            nonrobust                                         \n",
            "==============================================================================\n",
            "                 coef    std err          t      P>|t|      [0.025      0.975]\n",
            "------------------------------------------------------------------------------\n",
            "Intercept  -1.419e+04     41.333   -343.338      0.000   -1.43e+04   -1.41e+04\n",
            "x           2957.9034     31.783     93.064      0.000    2895.608    3020.199\n",
            "y            203.7694     31.206      6.530      0.000     142.605     264.934\n",
            "==============================================================================\n",
            "Omnibus:                    12156.483   Durbin-Watson:                   0.415\n",
            "Prob(Omnibus):                  0.000   Jarque-Bera (JB):            34658.814\n",
            "Skew:                           1.189   Prob(JB):                         0.00\n",
            "Kurtosis:                       6.126   Cond. No.                         47.3\n",
            "==============================================================================\n",
            "\n",
            "Warnings:\n",
            "[1] Standard Errors assume that the covariance matrix of the errors is correctly specified.\n"
          ]
        }
      ]
    },
    {
      "cell_type": "markdown",
      "source": [
        "* 4.1) Yes, but compared to the previous model only involving 'x' as a predictor variable, we cannot observe any major improvement, meaning that the introduction of the variable 'y' does not seem to add significant information. This is further corroborated by the value of the coefficient of 'y', which is one order of magnitude lower than the one of 'x', for equivalent scales (both variables measure a dimension in mm). \n",
        "\n",
        "* 4.2) \n",
        "\n",
        "  * While keeping 'x' fixed, a unit increase in the variable 'y' leads to an increase of the average diamonds' price by 203.77 $. \n",
        "  \n",
        "  * While keeping 'y' fixed, a unit increase in the variable 'x' leads to an increase of the average diamonds' price by 2957.9 $. \n",
        "  * Here again, the intercept does not have interpretation. "
      ],
      "metadata": {
        "id": "O-uX3NkzMasn"
      }
    },
    {
      "cell_type": "markdown",
      "source": [
        "**5) Add an interaction term between 'x' and 'y', refit the model and output its summary.**\n",
        "\n",
        "* **5.1) Does the model seems to be a better fit compared to the one with only 'x' and 'y' ?** \n",
        "\n",
        "* **5.2) How do you interpret the coefficients ?**"
      ],
      "metadata": {
        "id": "L3KEoQ0dmJci"
      }
    },
    {
      "cell_type": "code",
      "source": [
        "y, X = dmatrices('price ~ x*y', data=df, return_type='dataframe')\n",
        "\n",
        "mod = sm.OLS(y, X)\n",
        "\n",
        "res = mod.fit()\n",
        "\n",
        "print(res.summary())"
      ],
      "metadata": {
        "colab": {
          "base_uri": "https://localhost:8080/"
        },
        "id": "f_RuymGVncgj",
        "outputId": "c2d695eb-bf60-41f5-d92c-9584d954ffab"
      },
      "execution_count": null,
      "outputs": [
        {
          "output_type": "stream",
          "name": "stdout",
          "text": [
            "                            OLS Regression Results                            \n",
            "==============================================================================\n",
            "Dep. Variable:                  price   R-squared:                       0.855\n",
            "Model:                            OLS   Adj. R-squared:                  0.855\n",
            "Method:                 Least Squares   F-statistic:                 1.064e+05\n",
            "Date:                Tue, 22 Mar 2022   Prob (F-statistic):               0.00\n",
            "Time:                        12:21:41   Log-Likelihood:            -4.7141e+05\n",
            "No. Observations:               53920   AIC:                         9.428e+05\n",
            "Df Residuals:                   53916   BIC:                         9.429e+05\n",
            "Df Model:                           3                                         \n",
            "Covariance Type:            nonrobust                                         \n",
            "==============================================================================\n",
            "                 coef    std err          t      P>|t|      [0.025      0.975]\n",
            "------------------------------------------------------------------------------\n",
            "Intercept   1.193e+04    167.407     71.257      0.000    1.16e+04    1.23e+04\n",
            "x           -500.3794     34.024    -14.707      0.000    -567.067    -433.692\n",
            "y          -5433.2565     43.740   -124.217      0.000   -5518.987   -5347.526\n",
            "x:y          762.9945      4.788    159.364      0.000     753.610     772.378\n",
            "==============================================================================\n",
            "Omnibus:                    20570.159   Durbin-Watson:                   1.266\n",
            "Prob(Omnibus):                  0.000   Jarque-Bera (JB):          1646113.034\n",
            "Skew:                           0.947   Prob(JB):                         0.00\n",
            "Kurtosis:                      30.002   Cond. No.                         993.\n",
            "==============================================================================\n",
            "\n",
            "Warnings:\n",
            "[1] Standard Errors assume that the covariance matrix of the errors is correctly specified.\n"
          ]
        }
      ]
    },
    {
      "cell_type": "markdown",
      "source": [
        "* 5.1) Yes, compared to the model without an interaction, the model's statistics improved significantly (R2, AIC, BIC), indicating a strong interaction between the variables 'x' and 'y'. All coefficients are statistically significant at the 5% significance level.  \n",
        "\n",
        "* 5.2) Interpreting coefficients when an interaction term is present makes the job trickier. When 'y' is fixed, a unit increase in 'x' leads to a variation of the average diamonds' price by -500.38 + 763*y $, which is positive if y > 0.65. The opposite interpretation can be directly done for 'x'. "
      ],
      "metadata": {
        "id": "7pOmjC3TOcuv"
      }
    },
    {
      "cell_type": "markdown",
      "source": [
        "**6) Generate dummy variables out of the variables 'cut', 'color' and 'clarity'. Make sure that for each of those variables, one level was selected as the reference level (and consequently, that this level is not represented by a dummy variable).**\n",
        "\n",
        "**Why do we need to have k-1 dummy variables, when k is the number of levels ?**"
      ],
      "metadata": {
        "id": "Js9HhxqHsCNs"
      }
    },
    {
      "cell_type": "code",
      "source": [
        "cat_var = ['cut', 'color', 'clarity']\n",
        "df_dummies = pd.get_dummies(df[cat_var], drop_first=True)\n",
        "df_cont = df.drop(cat_var, axis=1)\n",
        "df_cat = pd.concat([df_dummies, df_cont], axis=1)\n",
        "\n",
        "df_cat.rename(mapper={'cut_Very Good':'cut_Very_Good'}, axis=1, inplace=True)\n",
        "\n",
        "'''\n",
        "If we create k dummy variables out of the k levels of a categorical variable, we make these variables collinear, meaning that \n",
        "they are highly correlated. Indeed, if I want to generate k dummy variables out of the variable 'cut', I can exactly know the value of one dummy \n",
        "by simply looking at the others. Let's imagine that the variable 'cut' can only take on three levels : Fair, Good, Very Good. If I generate three \n",
        "dummy variables out of these levels, 'd_Fair', 'd_Good', 'd_VeryGood', I can say which value takes 'd_Fair' by simply looking at the realizations of 'd_Good'\n",
        "and 'd_VeryGood', meaning that these three variables are highly correlated. This is known as the 'dummy trap'. However, if I define only 'd_Fair' and 'd_Good' \n",
        "as dummy variables while keeping 'Very Good' as the reference level, my dummy variables are no longer correlated as it is impossible to know \n",
        "which value takes 'd_Fair' by only looking at 'd_VeryGood'. \n",
        "\n",
        "The problem is that introducing highly correlated variables in a linear model makes the variance of the coefficient estimates blow up, \n",
        "which is hardly a good thing. (you may try it yourself by removing 'drop_first=True' in the above cell and by fitting a linear model on the dummy's).\n",
        "'''"
      ],
      "metadata": {
        "id": "bd9A56vMrfo5",
        "colab": {
          "base_uri": "https://localhost:8080/",
          "height": 142
        },
        "outputId": "c34aaa93-decb-44f8-cdb3-ff2eebb62a28"
      },
      "execution_count": 18,
      "outputs": [
        {
          "output_type": "execute_result",
          "data": {
            "text/plain": [
              "\"\\nIf we create k dummy variables out of the k levels of a categorical variable, we make these variables collinear, meaning that \\nthey are highly correlated. Indeed, if I want to generate k dummy variables out of the variable 'cut', I can exactly know the value of one dummy \\nby simply looking at the others. Let's imagine that the variable 'cut' can only take on three levels : Fair, Good, Very Good. If I generate three \\ndummy variables out of these levels, 'd_Fair', 'd_Good', 'd_VeryGood', I can say which value takes 'd_Fair' by simply looking at the realizations of 'd_Good'\\nand 'd_VeryGood', meaning that these three variables are highly correlated. This is known as the 'dummy trap'. However, if I define only 'd_Fair' and 'd_Good' \\nas dummy variables while keeping 'Very Good' as the reference level, my dummy variables are no longer correlated as it is impossible to know \\nwhich value takes 'd_Fair' by only looking at 'd_VeryGood'. \\n\\nThe problem is that introducing highly correlated variables in a linear model makes the variance of the coefficient estimates blow up, \\nwhich is hardly a good thing. (you may try it yourself by removing 'drop_first=True' in the above cell and by fitting a linear model on the dummy's).\\n\""
            ],
            "application/vnd.google.colaboratory.intrinsic+json": {
              "type": "string"
            }
          },
          "metadata": {},
          "execution_count": 18
        }
      ]
    },
    {
      "cell_type": "markdown",
      "source": [
        "**7) Refit the model using the dummy variables obtained from the variable 'color', and output its summary.**\n",
        "\n",
        "* **7.1) Does the model seem to be a good fit ?**\n",
        "\n",
        "* **7.2) Are all coefficients significant ? if not, what does it mean ?**\n",
        "\n",
        "* **7.3) How do you interpret the coefficients ?**\n"
      ],
      "metadata": {
        "id": "j16LXvghtAPt"
      }
    },
    {
      "cell_type": "code",
      "source": [
        "y, X = dmatrices('price ~ color_E + color_F + color_G + color_H + color_I + color_J', data=df_cat, return_type='dataframe')\n",
        "\n",
        "mod = sm.OLS(y, X)\n",
        "\n",
        "res = mod.fit()\n",
        "print(dir(res))\n",
        "print(res.summary())\n",
        "print(res.aic)"
      ],
      "metadata": {
        "colab": {
          "base_uri": "https://localhost:8080/"
        },
        "id": "wC8JCYqMtYgS",
        "outputId": "0f48db91-03e7-425d-e740-57f687a3127d"
      },
      "execution_count": 19,
      "outputs": [
        {
          "output_type": "stream",
          "name": "stdout",
          "text": [
            "['HC0_se', 'HC1_se', 'HC2_se', 'HC3_se', '_HCCM', '__class__', '__delattr__', '__dict__', '__dir__', '__doc__', '__eq__', '__format__', '__ge__', '__getattribute__', '__gt__', '__hash__', '__init__', '__init_subclass__', '__le__', '__lt__', '__module__', '__ne__', '__new__', '__reduce__', '__reduce_ex__', '__repr__', '__setattr__', '__sizeof__', '__str__', '__subclasshook__', '__weakref__', '_cache', '_data_attr', '_get_robustcov_results', '_is_nested', '_wexog_singular_values', 'aic', 'bic', 'bse', 'centered_tss', 'compare_f_test', 'compare_lm_test', 'compare_lr_test', 'condition_number', 'conf_int', 'conf_int_el', 'cov_HC0', 'cov_HC1', 'cov_HC2', 'cov_HC3', 'cov_kwds', 'cov_params', 'cov_type', 'df_model', 'df_resid', 'eigenvals', 'el_test', 'ess', 'f_pvalue', 'f_test', 'fittedvalues', 'fvalue', 'get_influence', 'get_prediction', 'get_robustcov_results', 'initialize', 'k_constant', 'llf', 'load', 'model', 'mse_model', 'mse_resid', 'mse_total', 'nobs', 'normalized_cov_params', 'outlier_test', 'params', 'predict', 'pvalues', 'remove_data', 'resid', 'resid_pearson', 'rsquared', 'rsquared_adj', 'save', 'scale', 'ssr', 'summary', 'summary2', 't_test', 't_test_pairwise', 'tvalues', 'uncentered_tss', 'use_t', 'wald_test', 'wald_test_terms', 'wresid']\n",
            "                            OLS Regression Results                            \n",
            "==============================================================================\n",
            "Dep. Variable:                  price   R-squared:                       0.031\n",
            "Model:                            OLS   Adj. R-squared:                  0.031\n",
            "Method:                 Least Squares   F-statistic:                     289.8\n",
            "Date:                Tue, 22 Mar 2022   Prob (F-statistic):               0.00\n",
            "Time:                        16:32:40   Log-Likelihood:            -5.2270e+05\n",
            "No. Observations:               53920   AIC:                         1.045e+06\n",
            "Df Residuals:                   53913   BIC:                         1.045e+06\n",
            "Df Model:                           6                                         \n",
            "Covariance Type:            nonrobust                                         \n",
            "==============================================================================\n",
            "                 coef    std err          t      P>|t|      [0.025      0.975]\n",
            "------------------------------------------------------------------------------\n",
            "Intercept   3168.1064     47.685     66.438      0.000    3074.643    3261.570\n",
            "color_E      -91.3540     62.017     -1.473      0.141    -212.908      30.201\n",
            "color_F      556.9738     62.361      8.931      0.000     434.746     679.201\n",
            "color_G      828.7701     60.324     13.739      0.000     710.535     947.005\n",
            "color_H     1312.8357     64.266     20.428      0.000    1186.873    1438.798\n",
            "color_I     1921.8676     71.521     26.871      0.000    1781.685    2062.050\n",
            "color_J     2155.7116     88.088     24.472      0.000    1983.059    2328.364\n",
            "==============================================================================\n",
            "Omnibus:                    14688.045   Durbin-Watson:                   0.058\n",
            "Prob(Omnibus):                  0.000   Jarque-Bera (JB):            33017.839\n",
            "Skew:                           1.575   Prob(JB):                         0.00\n",
            "Kurtosis:                       5.185   Cond. No.                         8.55\n",
            "==============================================================================\n",
            "\n",
            "Warnings:\n",
            "[1] Standard Errors assume that the covariance matrix of the errors is correctly specified.\n",
            "1045406.5859328904\n"
          ]
        }
      ]
    },
    {
      "cell_type": "markdown",
      "source": [
        "7.1) No, the very low R2 value compared to the previous models and the increase of the AIC and BIC tend to indicate that the variable 'color' is a poor predictor to explain the variable 'price'. Also, the F-statistic dropped. \n",
        "\n",
        "7.2) The coefficient of the dummy variable encoding the color E is not significant at the 5% significance level, meaning that, given the data, we do not have enough evidence that this coefficient is statistically different from 0. \n",
        "\n",
        "7.3) The average price for a diamond of color 'F' is 3168.1 + 556.97 = 3725.07 $, and the same reasoning can be applied to the other colors. In the case of dummy of dummy variables, the intercept has an important meaning, as it gives the average price of diamonds which have the reference level as color (in this case, the color 'D'). Thus, the average price of diamonds of color 'D' is 3168.1. "
      ],
      "metadata": {
        "id": "qg6abk-ddOrB"
      }
    },
    {
      "cell_type": "markdown",
      "source": [
        "**8) Refit the model using this time all predictor variables (at the exception of price, of course), and output its summary.**\n",
        "\n",
        "**What do you observe ? Does the model seem to be a better fit compared to the previous ones ? Are all coefficients still significant ?**"
      ],
      "metadata": {
        "id": "XjZ2AF9OdOg_"
      }
    },
    {
      "cell_type": "code",
      "source": [
        "formula = 'price ~ '\n",
        "columns = list(df.columns)\n",
        "columns.remove('price')\n",
        "for col in columns : formula += col + '+'\n",
        "formula = formula.rstrip('+')\n",
        "\n",
        "y, X = dmatrices(formula, data=df, return_type='dataframe')\n",
        "\n",
        "mod = sm.OLS(y, X)\n",
        "\n",
        "res = mod.fit()\n",
        "print(res.summary())\n"
      ],
      "metadata": {
        "colab": {
          "base_uri": "https://localhost:8080/"
        },
        "id": "fTr9nQ-8r4jI",
        "outputId": "14cc1369-b113-4742-9b8f-0498aa4e0989"
      },
      "execution_count": 20,
      "outputs": [
        {
          "output_type": "stream",
          "name": "stdout",
          "text": [
            "                            OLS Regression Results                            \n",
            "==============================================================================\n",
            "Dep. Variable:                  price   R-squared:                       0.920\n",
            "Model:                            OLS   Adj. R-squared:                  0.920\n",
            "Method:                 Least Squares   F-statistic:                 2.699e+04\n",
            "Date:                Tue, 22 Mar 2022   Prob (F-statistic):               0.00\n",
            "Time:                        16:47:13   Log-Likelihood:            -4.5542e+05\n",
            "No. Observations:               53920   AIC:                         9.109e+05\n",
            "Df Residuals:                   53896   BIC:                         9.111e+05\n",
            "Df Model:                          23                                         \n",
            "Covariance Type:            nonrobust                                         \n",
            "====================================================================================\n",
            "                       coef    std err          t      P>|t|      [0.025      0.975]\n",
            "------------------------------------------------------------------------------------\n",
            "Intercept         2711.9832    413.798      6.554      0.000    1900.936    3523.030\n",
            "cut[T.Good]        574.3906     33.526     17.132      0.000     508.678     640.103\n",
            "cut[T.Ideal]       824.8785     33.339     24.742      0.000     759.534     890.223\n",
            "cut[T.Premium]     753.0040     32.164     23.411      0.000     689.962     816.046\n",
            "cut[T.Very Good]   717.3414     32.178     22.293      0.000     654.272     780.411\n",
            "color[T.E]        -208.9032     17.849    -11.704      0.000    -243.887    -173.919\n",
            "color[T.F]        -267.4026     18.052    -14.813      0.000    -302.784    -232.021\n",
            "color[T.G]        -477.1752     17.676    -26.996      0.000    -511.820    -442.531\n",
            "color[T.H]        -979.7585     18.792    -52.138      0.000   -1016.590    -942.927\n",
            "color[T.I]       -1470.2534     21.114    -69.635      0.000   -1511.636   -1428.871\n",
            "color[T.J]       -2376.0662     26.071    -91.138      0.000   -2427.166   -2324.967\n",
            "clarity[T.IF]     5340.2771     50.968    104.777      0.000    5240.380    5440.174\n",
            "clarity[T.SI1]    3677.7624     43.617     84.320      0.000    3592.273    3763.252\n",
            "clarity[T.SI2]    2716.6898     43.801     62.023      0.000    2630.839    2802.541\n",
            "clarity[T.VS1]    4587.0437     44.519    103.035      0.000    4499.785    4674.302\n",
            "clarity[T.VS2]    4276.3465     43.831     97.563      0.000    4190.436    4362.257\n",
            "clarity[T.VVS1]   5004.0100     47.120    106.198      0.000    4911.655    5096.365\n",
            "clarity[T.VVS2]   4951.8223     45.819    108.073      0.000    4862.016    5041.628\n",
            "carat             1.153e+04     51.630    223.235      0.000    1.14e+04    1.16e+04\n",
            "depth              -65.0768      4.639    -14.029      0.000     -74.169     -55.985\n",
            "table              -26.4441      2.905     -9.102      0.000     -32.139     -20.749\n",
            "x                -1100.6815     34.993    -31.455      0.000   -1169.267   -1032.096\n",
            "y                   25.9330     19.447      1.334      0.182     -12.183      64.049\n",
            "z                 -114.9809     37.840     -3.039      0.002    -189.147     -40.815\n",
            "==============================================================================\n",
            "Omnibus:                    14447.606   Durbin-Watson:                   1.208\n",
            "Prob(Omnibus):                  0.000   Jarque-Bera (JB):           637923.673\n",
            "Skew:                           0.537   Prob(JB):                         0.00\n",
            "Kurtosis:                      19.816   Cond. No.                     7.26e+03\n",
            "==============================================================================\n",
            "\n",
            "Warnings:\n",
            "[1] Standard Errors assume that the covariance matrix of the errors is correctly specified.\n",
            "[2] The condition number is large, 7.26e+03. This might indicate that there are\n",
            "strong multicollinearity or other numerical problems.\n"
          ]
        }
      ]
    },
    {
      "cell_type": "markdown",
      "source": [
        "8) The R2 coefficent increased compared to previous models to a value of 0.92, but we must be careful as this behaviour is expected (increasing the number of predictors tends to increase the value of R2, whether they are meaningful or not). However, the AIC and BIC values, which account for the number of predictors in the model, also decreased, which tend to suggest a better fit. \n",
        "\n",
        "However, the coefficent of 'y' is not significant anymore, which would suggest that it needs to be removed from the model. Also, when estimating the p-values, we are conducting many hypothesis tests in parallel, which considerably increases the risk of Type 1 errors, and this should be appropriately accounted for (e.g. using a Bonferroni correction). "
      ],
      "metadata": {
        "id": "S62aaAjzhrzj"
      }
    },
    {
      "cell_type": "markdown",
      "source": [
        "**9) We will now select candidate features to fit our model using a forward selection strategy. To this end, we will define different entering criteria for our candidate features :**\n",
        "* Does the introduction of the feature decreases the MSE ? \n",
        "* Does the introduction of the feature decreases the AIC ? \n",
        "* Does the introduction of the feature decreases the BIC ? \n",
        " \n",
        "**To this end, define two new functions : neg_AIC(y_true, y_pred, n, k) and neg_BIC(y_true, y_pred, n, k) that respectively compute the negative AIC and BIC given the ground truth y values (y_true), the predicted y values (y_pred), the number of samples (n) and the number of predictors (k). The AIC and BIC can be computed as such :**\n",
        "\n",
        "* AIC = 2*k + n*log(mse) \n",
        "* BIC = n*log(mse) + k*log(n)"
      ],
      "metadata": {
        "id": "BJBVO1ojhWDy"
      }
    },
    {
      "cell_type": "code",
      "source": [
        "from sklearn.linear_model import LinearRegression\n",
        "from sklearn.model_selection import cross_val_score, cross_validate\n",
        "from sklearn.metrics import make_scorer\n",
        "from sklearn.metrics import mean_squared_error, r2_score\n",
        "\n",
        "\n",
        "def forward_selection(df, model, target_column, columns, scoring_rule):\n",
        "  features_to_keep  = []\n",
        "  features_to_try = []  \n",
        "  best_score = -np.inf\n",
        "  cond = True\n",
        "  y = df[target_column].values\n",
        "  while len(columns) != 0 and cond is True:\n",
        "    cond = False\n",
        "    best_feat = None \n",
        "    for col in columns:  \n",
        "      features_to_try = features_to_keep + [col]   \n",
        "      X = get_predictors(df, features_to_try)\n",
        "      n, k = X.shape[0], X.shape[1]\n",
        "      if scoring_rule == 'aic':\n",
        "        scorer = make_scorer(neg_AIC, n=n, k=k, greater_is_better=True)\n",
        "      elif scoring_rule == 'bic':\n",
        "        scorer = make_scorer(neg_BIC, n=n, k=k, greater_is_better=True)\n",
        "      else:\n",
        "        scorer = scoring_rule\n",
        "      cv_results = cross_validate(model, X, y, scoring=scorer, cv=10)\n",
        "      score = cv_results['test_score'].mean()\n",
        "      if score > best_score: \n",
        "        best_feat = col\n",
        "        cond = True\n",
        "        best_score = score\n",
        "    if best_feat != None:\n",
        "      columns.remove(best_feat)\n",
        "      features_to_keep.append(best_feat)\n",
        "  return features_to_keep, best_score \n",
        "\n",
        "def get_predictors(df, cols):\n",
        "  cat_pred = []\n",
        "  cont_pred = []\n",
        "  for col in cols:\n",
        "    if isinstance(df[col].values[0], str):\n",
        "      cat_pred.append(col)\n",
        "    else:\n",
        "      cont_pred.append(col)\n",
        "    if len(cat_pred) != 0:\n",
        "      df_dummies = pd.get_dummies(df[cat_pred], drop_first=True)\n",
        "    else:\n",
        "      df_dummies  = pd.DataFrame() \n",
        "  df_cont = df[cont_pred] \n",
        "  df_cat = pd.concat([df_dummies, df_cont], axis=1)\n",
        "  \n",
        "  return df_cat.values  \n",
        "\n",
        "\n",
        "def neg_AIC(y_true, y_pred, n, k):\n",
        "  mse = mean_squared_error(y_true, y_pred)\n",
        "  return -(2*k + n*np.log(mse))\n",
        "\n",
        "def neg_BIC(y_true, y_pred, n, k):\n",
        "  mse = mean_squared_error(y_true, y_pred)\n",
        "  return -(n*np.log(mse) + k*np.log(n))\n"
      ],
      "metadata": {
        "id": "EyQkfpnZud5e"
      },
      "execution_count": 6,
      "outputs": []
    },
    {
      "cell_type": "markdown",
      "source": [
        "**10) Use the function forward_selection() and the functions neg_AIC() and neg_BIC() to perform a forward selection on the dataframe features (at the exception of carat) to see which subset of features is best to fit the target variable 'price'. Also, do a forward selection with an entering criterion defined as the MSE. When performing selection, do not consider the variable 'carat'.**\n",
        "\n",
        "**For each selection, report the best subset of features obtained, as well as the score obtained. What do you observe ?**  "
      ],
      "metadata": {
        "id": "AS0VH-6mjFXV"
      }
    },
    {
      "cell_type": "code",
      "source": [
        "columns = list(df.columns)\n",
        "for x in ['price', 'carat'] : columns.remove(x)\n",
        "model = LinearRegression(fit_intercept=True)\n",
        "\n",
        "features_MSE, score_MSE = forward_selection(df, model, 'price', columns.copy(), 'neg_mean_squared_error')\n",
        "\n",
        "print('Features kept using MSE : {}'.format(features_MSE))\n",
        "print('Score : {}'.format(-score_MSE))\n",
        "\n",
        "model = LinearRegression(fit_intercept=True)\n",
        "features_AIC, score_AIC = forward_selection(df, model, 'price', columns.copy(), 'aic')\n",
        "\n",
        "print('Features kept using AIC : {}'.format(features_AIC))\n",
        "print('Score : {}'.format(-score_AIC))\n",
        "\n",
        "\n",
        "model = LinearRegression(fit_intercept=True)\n",
        "features_BIC, score_BIC = forward_selection(df, model, 'price', columns.copy(), 'bic')\n",
        "\n",
        "print('Features kept using BIC : {}'.format(features_BIC))\n",
        "print('Score : {}'.format(-score_BIC))\n"
      ],
      "metadata": {
        "colab": {
          "base_uri": "https://localhost:8080/"
        },
        "id": "GNKAsJxVu8jO",
        "outputId": "a8e4b6f9-2ae4-45a2-abea-f1126982dfcd"
      },
      "execution_count": 8,
      "outputs": [
        {
          "output_type": "stream",
          "name": "stdout",
          "text": [
            "Features kept using MSE : ['x', 'clarity', 'color', 'table', 'cut']\n",
            "Score : 3690915.078216155\n",
            "Features kept using AIC : ['y', 'clarity', 'color', 'table']\n",
            "Score : 786903.289502688\n",
            "Features kept using BIC : ['y', 'clarity', 'color', 'table']\n",
            "Score : 787036.7239166384\n"
          ]
        }
      ]
    },
    {
      "cell_type": "markdown",
      "source": [
        "10) The set of predictors obtained when defining the BIC or the AIC as the entering criterion is smaller than the one obtained with the MSE. This is expected, as the AIC and the BIC penalize the inclusion of a new predictor to the model, which is not the case of the MSE. As a general rule, using the BIC might result in a smaller set than when using the AIC, which might in turn results in a smaller set than when using the MSE. "
      ],
      "metadata": {
        "id": "swxJbt0Nj1WK"
      }
    },
    {
      "cell_type": "markdown",
      "source": [
        "**11) Looking at the scatter plot of the variable 'price' against the variable 'x', a linear model might not be the best fit to explain the relation between the two variables.  Using a transformation of the variable 'x', try to obtain a better fit. Plot the linear regression line and the one obtained using the transformation of 'x'.**"
      ],
      "metadata": {
        "id": "ROq-BPSUkCJk"
      }
    },
    {
      "cell_type": "code",
      "source": [
        "'''\n",
        "The scatter plot suggests that an higher order polynomial might be better suited than a linear term. This confirm this, \n",
        "lets fit the model using the square of the variable 'x'. We observe that it endeed improves the results compared to \n",
        "fitting the model only using 'x'. \n",
        "'''\n",
        "\n",
        "df['x2'] = df['x']**2\n",
        "\n",
        "y, X = dmatrices('price ~ x2', data=df, return_type='dataframe')\n",
        "\n",
        "mod = sm.OLS(y, X)\n",
        "\n",
        "res = mod.fit()\n",
        "print(res.summary())\n",
        "\n",
        "p = res.params\n",
        "fig, ax = plt.subplots()\n",
        "ax.scatter(df['x'], df['price'])\n",
        "xaxis = np.arange(3,11,1)\n",
        "ax.plot(xaxis, p.Intercept + p.x2 * xaxis**2, color='red', label='Regression curve for x^2')\n",
        "\n",
        "y, X = dmatrices('price ~ x', data=df, return_type='dataframe')\n",
        "\n",
        "mod = sm.OLS(y, X)\n",
        "\n",
        "res = mod.fit()\n",
        "p = res.params\n",
        "ax.plot(xaxis, p.Intercept + p.x * xaxis, color='green', label='Regression line for x')\n",
        "ax.set_xlabel('x')\n",
        "ax.set_ylabel('price')\n",
        "ax.legend()"
      ],
      "metadata": {
        "colab": {
          "base_uri": "https://localhost:8080/",
          "height": 743
        },
        "id": "xMrxh-fuBh7Y",
        "outputId": "1da51d01-697d-4316-bb80-3cda79a7c7cf"
      },
      "execution_count": 21,
      "outputs": [
        {
          "output_type": "stream",
          "name": "stdout",
          "text": [
            "                            OLS Regression Results                            \n",
            "==============================================================================\n",
            "Dep. Variable:                  price   R-squared:                       0.827\n",
            "Model:                            OLS   Adj. R-squared:                  0.827\n",
            "Method:                 Least Squares   F-statistic:                 2.586e+05\n",
            "Date:                Tue, 22 Mar 2022   Prob (F-statistic):               0.00\n",
            "Time:                        17:02:48   Log-Likelihood:            -4.7618e+05\n",
            "No. Observations:               53920   AIC:                         9.524e+05\n",
            "Df Residuals:                   53918   BIC:                         9.524e+05\n",
            "Df Model:                           1                                         \n",
            "Covariance Type:            nonrobust                                         \n",
            "==============================================================================\n",
            "                 coef    std err          t      P>|t|      [0.025      0.975]\n",
            "------------------------------------------------------------------------------\n",
            "Intercept  -5301.4666     19.507   -271.777      0.000   -5339.700   -5263.233\n",
            "x2           270.7099      0.532    508.511      0.000     269.666     271.753\n",
            "==============================================================================\n",
            "Omnibus:                    12895.381   Durbin-Watson:                   0.673\n",
            "Prob(Omnibus):                  0.000   Jarque-Bera (JB):            54771.774\n",
            "Skew:                           1.122   Prob(JB):                         0.00\n",
            "Kurtosis:                       7.398   Cond. No.                         100.\n",
            "==============================================================================\n",
            "\n",
            "Warnings:\n",
            "[1] Standard Errors assume that the covariance matrix of the errors is correctly specified.\n"
          ]
        },
        {
          "output_type": "execute_result",
          "data": {
            "text/plain": [
              "<matplotlib.legend.Legend at 0x7f7c6b87cf50>"
            ]
          },
          "metadata": {},
          "execution_count": 21
        },
        {
          "output_type": "display_data",
          "data": {
            "text/plain": [
              "<Figure size 432x288 with 1 Axes>"
            ],
            "image/png": "[encoded data removed]"
          },
          "metadata": {
            "needs_background": "light"
          }
        }
      ]
    }
  ]
}